{
  "nbformat": 4,
  "nbformat_minor": 0,
  "metadata": {
    "colab": {
      "provenance": [],
      "authorship_tag": "ABX9TyP6OpmBr1cudhHTqX1rjE9b",
      "include_colab_link": true
    },
    "kernelspec": {
      "name": "python3",
      "display_name": "Python 3"
    },
    "language_info": {
      "name": "python"
    }
  },
  "cells": [
    {
      "cell_type": "markdown",
      "metadata": {
        "id": "view-in-github",
        "colab_type": "text"
      },
      "source": [
        "<a href=\"https://colab.research.google.com/github/Abhay182005dat/My_TensorFlow_Learning/blob/main/Dropouts_Learning.ipynb\" target=\"_parent\"><img src=\"https://colab.research.google.com/assets/colab-badge.svg\" alt=\"Open In Colab\"/></a>"
      ]
    },
    {
      "cell_type": "code",
      "execution_count": 31,
      "metadata": {
        "id": "tW_S16aBrFfE"
      },
      "outputs": [],
      "source": [
        "import tensorflow as tf\n",
        "import numpy as np\n",
        "import matplotlib.pyplot as plt\n",
        "from tensorflow.keras.models import Sequential\n",
        "from tensorflow.keras.layers import Dense\n",
        "from tensorflow.keras.layers import Dropout\n",
        "from tensorflow.keras.optimizers import Adam\n",
        "from sklearn.model_selection import train_test_split\n",
        "from sklearn.metrics import mean_squared_error"
      ]
    },
    {
      "cell_type": "markdown",
      "source": [
        "### Generate Data"
      ],
      "metadata": {
        "id": "pOb6eusfr1ct"
      }
    },
    {
      "cell_type": "code",
      "source": [
        "X_train = np.linspace(-1,1,20)"
      ],
      "metadata": {
        "id": "_QVmcJxerzul"
      },
      "execution_count": 32,
      "outputs": []
    },
    {
      "cell_type": "code",
      "source": [
        "y_train= np.array([-0.6561,-0.3099,-0.59035,-0.50855,-0.285,\n",
        "                   -0.2443,-0.02445, 0.00135, -0.2006, 0.07475,\n",
        "                   -0.1422, 0.06515, 0.15265, 0.3521, 0.28415,\n",
        "                   0.5524, 0.23115, 0.20835, 0.4211, 0.60485])"
      ],
      "metadata": {
        "id": "vtBxirLYsC8W"
      },
      "execution_count": 33,
      "outputs": []
    },
    {
      "cell_type": "code",
      "source": [
        "X_test = np.linspace(-1,1,20)"
      ],
      "metadata": {
        "id": "VQsUIZhYsqXo"
      },
      "execution_count": 34,
      "outputs": []
    },
    {
      "cell_type": "code",
      "source": [
        "y_test = np.array([-0.69415, -0.451,-0.43005,-0.4484,-0.1475,\n",
        "                   -0.5019,-0.28055, 0.24595,-0.21425,-0.0286,\n",
        "                   0.23415,0.46575,0.07955,0.1973,0.0719,\n",
        "                   0.3639, 0.5536, 0.3365 , 0.50705,0.33435])"
      ],
      "metadata": {
        "id": "yjRyImseszUo"
      },
      "execution_count": 35,
      "outputs": []
    },
    {
      "cell_type": "code",
      "source": [
        "plt.scatter(X_train,y_train,c='black',label=\"train\")\n",
        "plt.scatter(X_test,y_test,c='red',label=\"test\")\n",
        "plt.legend()\n",
        "plt.show()"
      ],
      "metadata": {
        "colab": {
          "base_uri": "https://localhost:8080/",
          "height": 430
        },
        "id": "xlU2RdJBtcRn",
        "outputId": "9114ba37-9d4f-4eca-f53b-ad2d97b32354"
      },
      "execution_count": 36,
      "outputs": [
        {
          "output_type": "display_data",
          "data": {
            "text/plain": [
              "<Figure size 640x480 with 1 Axes>"
            ],
            "image/png": "[encoded data removed]"
          },
          "metadata": {}
        }
      ]
    },
    {
      "cell_type": "markdown",
      "source": [
        "### Regression model"
      ],
      "metadata": {
        "id": "ELbIAJ8mtvLK"
      }
    },
    {
      "cell_type": "code",
      "source": [
        "model = Sequential()\n",
        "model.add(Dense(128,input_dim=1,activation='relu'))\n",
        "model.add(Dense(128,activation='relu'))\n",
        "model.add(Dense(1,activation='linear'))\n",
        "\n",
        "adam = Adam(learning_rate=0.001)\n",
        "model.compile(loss='mse',optimizer=adam,metrics=['mse'])\n",
        "history = model.fit(X_train , y_train , epochs = 500 , validation_data = (X_test,y_test),verbose = False)"
      ],
      "metadata": {
        "id": "VW44F82-towb"
      },
      "execution_count": null,
      "outputs": []
    },
    {
      "cell_type": "code",
      "source": [
        "# evaluate the model\n",
        "_ , train_mse = model.evaluate(X_train, y_train, verbose=0)\n",
        "_ , test_mse = model.evaluate(X_test, y_test, verbose=0)\n",
        "print('Train: {}, Test : {}'.format(train_mse , test_mse))"
      ],
      "metadata": {
        "id": "nN4eZhmvubag"
      },
      "execution_count": null,
      "outputs": []
    },
    {
      "cell_type": "code",
      "source": [
        "y_pred = model.predict(X_test)"
      ],
      "metadata": {
        "id": "MjJmOpkEuxQD"
      },
      "execution_count": null,
      "outputs": []
    },
    {
      "cell_type": "code",
      "source": [
        "plt.figure()\n",
        "plt.scatter(X_train,y_train,c='black',label='train' )\n",
        "plt.scatter(X_test,y_test,c='red',label='test')\n",
        "plt.scatter(X_test,y_pred,c='blue',label='prediction')\n",
        "plt.plot(X_test,y_pred)\n",
        "plt.legend()\n",
        "plt.ylim((-1.5,1.5))\n",
        "plt.show()"
      ],
      "metadata": {
        "id": "lAgUIFDtu6Py"
      },
      "execution_count": null,
      "outputs": []
    },
    {
      "cell_type": "markdown",
      "source": [
        "> We can see the blue line is being very close to the black lines form which we can infer that our model is overfitting\n"
      ],
      "metadata": {
        "id": "y-0HW-2xvciQ"
      }
    },
    {
      "cell_type": "code",
      "source": [
        "plt.plot(history.history['loss'])\n",
        "plt.plot(history.history['val_loss'])\n",
        "plt.title('model loss')\n",
        "plt.ylabel('loss')\n",
        "plt.xlabel('epoch')\n"
      ],
      "metadata": {
        "id": "N6DW3kzRvJV8"
      },
      "execution_count": null,
      "outputs": []
    },
    {
      "cell_type": "markdown",
      "source": [
        "### Using Droput model"
      ],
      "metadata": {
        "id": "aRGWTU3Ov90H"
      }
    },
    {
      "cell_type": "code",
      "source": [
        "model = Sequential()\n",
        "model.add(Dense (128, input_dim=1, activation=\"relu\"))\n",
        "model.add(Dropout(0.2))\n",
        "model.add(Dense (128, activation=\"relu\"))\n",
        "model.add(Dropout(0.2))\n",
        "model.add(Dense (1, activation=\"linear\"))\n",
        "adam = Adam(learning_rate=0.01)\n",
        "model.compile(loss='mse', optimizer = adam, metrics=['mse'])\n",
        "history = model.fit(X_train, y_train, epochs=500, validation_data = (X_test, y_test), verbose=False)"
      ],
      "metadata": {
        "id": "xT16IyMpv1CL"
      },
      "execution_count": null,
      "outputs": []
    },
    {
      "cell_type": "code",
      "source": [
        "# evaluate the model\n",
        "_ , train_mse = model.evaluate(X_train, y_train, verbose=0)\n",
        "_ , test_mse = model.evaluate(X_test, y_test, verbose=0)\n",
        "print('Train: {}, Test : {}'.format(train_mse , test_mse))"
      ],
      "metadata": {
        "id": "Jp-F7YKTwTPW"
      },
      "execution_count": null,
      "outputs": []
    },
    {
      "cell_type": "code",
      "source": [
        "y_pred = model.predict(X_test)\n"
      ],
      "metadata": {
        "id": "pOZ9FqrzwYfT"
      },
      "execution_count": null,
      "outputs": []
    },
    {
      "cell_type": "code",
      "source": [
        "plt.figure()\n",
        "plt.scatter(X_train,y_train,c='black',label='train' )\n",
        "plt.scatter(X_test,y_test,c='red',label='test')\n",
        "plt.scatter(X_test,y_pred,c='blue',label='prediction')\n",
        "plt.plot(X_test,y_pred)\n",
        "plt.legend()\n",
        "plt.ylim((-1.5,1.5))\n",
        "plt.show()"
      ],
      "metadata": {
        "id": "rXU6UsXmwfJl"
      },
      "execution_count": null,
      "outputs": []
    },
    {
      "cell_type": "markdown",
      "source": [
        "> We can see that curve has been smoothened and some black points have been ignored ,specifying that overfittig has been reduced."
      ],
      "metadata": {
        "id": "I95ZuDbswl91"
      }
    },
    {
      "cell_type": "code",
      "source": [
        "plt.plot(history.history['loss'])\n",
        "plt.plot(history.history['val_loss'])\n",
        "plt.title('model loss')\n",
        "plt.ylabel('loss')\n",
        "plt.xlabel('epoch')\n"
      ],
      "metadata": {
        "id": "sIYbb--3wivI"
      },
      "execution_count": null,
      "outputs": []
    },
    {
      "cell_type": "code",
      "source": [],
      "metadata": {
        "id": "PBejbCH2w789"
      },
      "execution_count": null,
      "outputs": []
    }
  ]
}