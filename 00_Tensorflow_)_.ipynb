{
  "cells": [
    {
      "cell_type": "markdown",
      "metadata": {
        "id": "view-in-github",
        "colab_type": "text"
      },
      "source": [
        "<a href=\"https://colab.research.google.com/github/Abhay182005dat/My_TensorFlow_Learning/blob/main/00_Tensorflow_)_.ipynb\" target=\"_parent\"><img src=\"https://colab.research.google.com/assets/colab-badge.svg\" alt=\"Open In Colab\"/></a>"
      ]
    },
    {
      "cell_type": "markdown",
      "metadata": {
        "id": "w81wAtjCw_BD"
      },
      "source": [
        "##Introduction to Tensors"
      ]
    },
    {
      "cell_type": "code",
      "execution_count": 1,
      "metadata": {
        "colab": {
          "base_uri": "https://localhost:8080/"
        },
        "id": "3uPLLj65wu5d",
        "outputId": "7fac3b02-7f34-4743-c878-14203ea3c08a"
      },
      "outputs": [
        {
          "output_type": "stream",
          "name": "stdout",
          "text": [
            "2.17.1\n"
          ]
        }
      ],
      "source": [
        "import tensorflow as tf\n",
        "print(tf.__version__)"
      ]
    },
    {
      "cell_type": "code",
      "execution_count": 2,
      "metadata": {
        "colab": {
          "base_uri": "https://localhost:8080/"
        },
        "id": "oe4KlpaSw4p9",
        "outputId": "29aaeff9-5859-4a53-e958-0794176732e5"
      },
      "outputs": [
        {
          "output_type": "stream",
          "name": "stdout",
          "text": [
            "tf.Tensor(7, shape=(), dtype=int32)\n"
          ]
        },
        {
          "output_type": "execute_result",
          "data": {
            "text/plain": [
              "<tf.Tensor: shape=(), dtype=int32, numpy=7>"
            ]
          },
          "metadata": {},
          "execution_count": 2
        }
      ],
      "source": [
        "  #Creating Tensors with tf.constant\n",
        "  scalar = tf.constant(7)\n",
        "  print(scalar)\n",
        "  scalar\n"
      ]
    },
    {
      "cell_type": "code",
      "execution_count": 3,
      "metadata": {
        "colab": {
          "base_uri": "https://localhost:8080/"
        },
        "id": "XEJAg9pN18AS",
        "outputId": "2307d994-6b18-4e47-f6c1-5f9aeec8e468"
      },
      "outputs": [
        {
          "output_type": "execute_result",
          "data": {
            "text/plain": [
              "0"
            ]
          },
          "metadata": {},
          "execution_count": 3
        }
      ],
      "source": [
        "scalar.ndim"
      ]
    },
    {
      "cell_type": "code",
      "execution_count": 4,
      "metadata": {
        "colab": {
          "base_uri": "https://localhost:8080/"
        },
        "id": "gEz6Oo4NcpET",
        "outputId": "1d613661-cb00-4aeb-f862-6bbc77fa38e2"
      },
      "outputs": [
        {
          "output_type": "execute_result",
          "data": {
            "text/plain": [
              "<tf.Tensor: shape=(2,), dtype=int32, numpy=array([10, 10], dtype=int32)>"
            ]
          },
          "metadata": {},
          "execution_count": 4
        }
      ],
      "source": [
        "vector = tf.constant([10,10])\n",
        "vector"
      ]
    },
    {
      "cell_type": "code",
      "execution_count": 5,
      "metadata": {
        "colab": {
          "base_uri": "https://localhost:8080/"
        },
        "id": "p9J1Fk4Yc7Ra",
        "outputId": "80d220ad-13f6-49c7-fca4-2a35058e1068"
      },
      "outputs": [
        {
          "output_type": "execute_result",
          "data": {
            "text/plain": [
              "1"
            ]
          },
          "metadata": {},
          "execution_count": 5
        }
      ],
      "source": [
        "vector.ndim"
      ]
    },
    {
      "cell_type": "code",
      "execution_count": 6,
      "metadata": {
        "colab": {
          "base_uri": "https://localhost:8080/"
        },
        "id": "M_wHlGzTc_zG",
        "outputId": "2693df3b-189b-4385-b355-f016a8fc6465"
      },
      "outputs": [
        {
          "output_type": "execute_result",
          "data": {
            "text/plain": [
              "2"
            ]
          },
          "metadata": {},
          "execution_count": 6
        }
      ],
      "source": [
        "matrix = tf.constant([[10,7],[7,10]])\n",
        "matrix\n",
        "matrix.ndim"
      ]
    },
    {
      "cell_type": "code",
      "execution_count": 7,
      "metadata": {
        "colab": {
          "base_uri": "https://localhost:8080/"
        },
        "id": "5413MjACdELE",
        "outputId": "6ed53da0-a555-496c-8837-f5f8dd8604a5"
      },
      "outputs": [
        {
          "output_type": "execute_result",
          "data": {
            "text/plain": [
              "<tf.Tensor: shape=(3, 2), dtype=float16, numpy=\n",
              "array([[10.,  7.],\n",
              "       [ 3.,  2.],\n",
              "       [ 8.,  9.]], dtype=float16)>"
            ]
          },
          "metadata": {},
          "execution_count": 7
        }
      ],
      "source": [
        "another_matrix = tf.constant([[10.,7.],[3.,2.],[8.,9.]],dtype=tf.float16)\n",
        "another_matrix #specify data type by dytpr parameter\n"
      ]
    },
    {
      "cell_type": "code",
      "execution_count": 8,
      "metadata": {
        "colab": {
          "base_uri": "https://localhost:8080/"
        },
        "id": "WHZe4VStdebT",
        "outputId": "a23b9117-21cd-430a-8ec3-7e0dfb01d1ed"
      },
      "outputs": [
        {
          "output_type": "execute_result",
          "data": {
            "text/plain": [
              "2"
            ]
          },
          "metadata": {},
          "execution_count": 8
        }
      ],
      "source": [
        "another_matrix.ndim"
      ]
    },
    {
      "cell_type": "code",
      "execution_count": 9,
      "metadata": {
        "colab": {
          "base_uri": "https://localhost:8080/"
        },
        "id": "RArzHnKZd9iO",
        "outputId": "0421b34f-9f69-4847-d263-559215231f6e"
      },
      "outputs": [
        {
          "output_type": "execute_result",
          "data": {
            "text/plain": [
              "<tf.Tensor: shape=(3, 2, 3), dtype=int32, numpy=\n",
              "array([[[ 1,  2,  3],\n",
              "        [ 4,  5,  6]],\n",
              "\n",
              "       [[ 7,  8,  9],\n",
              "        [10, 11, 12]],\n",
              "\n",
              "       [[13, 14, 15],\n",
              "        [16, 17, 18]]], dtype=int32)>"
            ]
          },
          "metadata": {},
          "execution_count": 9
        }
      ],
      "source": [
        "Tensor = tf.constant([[[1,2,3],[4,5,6]],[[7,8,9],[10,11,12]],[[13,14,15],[16,17,18]]])\n",
        "Tensor"
      ]
    },
    {
      "cell_type": "code",
      "execution_count": 10,
      "metadata": {
        "colab": {
          "base_uri": "https://localhost:8080/"
        },
        "id": "N43B6skReqr2",
        "outputId": "3c79a3ff-f5ad-4c8b-8ece-35bef5e2f702"
      },
      "outputs": [
        {
          "output_type": "execute_result",
          "data": {
            "text/plain": [
              "3"
            ]
          },
          "metadata": {},
          "execution_count": 10
        }
      ],
      "source": [
        "Tensor.ndim  # Basically the dimensions here mean just for remebering you can say that its the number of brackets they are enclose within ex. [[]] 2dim"
      ]
    },
    {
      "cell_type": "markdown",
      "metadata": {
        "id": "O7EEQQgufSVL"
      },
      "source": [
        "What we've created so far :\n",
        "* Scalar : a single number\n",
        "* Vector : a number with direction (e.g. wind speed and direction)\n",
        "* Matrix : a 2-dimensional array of numbers\n",
        "* Tensor : an n-dimensional array of numbers"
      ]
    },
    {
      "cell_type": "markdown",
      "metadata": {
        "id": "iFQhNjgGhba9"
      },
      "source": [
        "####Creating Tensors with `tf.variable`"
      ]
    },
    {
      "cell_type": "code",
      "execution_count": 11,
      "metadata": {
        "colab": {
          "base_uri": "https://localhost:8080/"
        },
        "id": "UBlN6p3mhujG",
        "outputId": "ad472f9b-281f-4ae1-df61-26b72c327191"
      },
      "outputs": [
        {
          "output_type": "execute_result",
          "data": {
            "text/plain": [
              "(<tf.Variable 'Variable:0' shape=(2,) dtype=int32, numpy=array([10,  7], dtype=int32)>,\n",
              " <tf.Tensor: shape=(1,), dtype=float32, numpy=array([10.7], dtype=float32)>)"
            ]
          },
          "metadata": {},
          "execution_count": 11
        }
      ],
      "source": [
        "changeable_tensor = tf.Variable([10,7])\n",
        "unchangeable_tensor = tf.constant([10.7])\n",
        "changeable_tensor , unchangeable_tensor"
      ]
    },
    {
      "cell_type": "code",
      "execution_count": 12,
      "metadata": {
        "colab": {
          "base_uri": "https://localhost:8080/"
        },
        "id": "WIxTTLuEh_Lt",
        "outputId": "4edc9a5c-0c72-4f20-e50d-9d00ac81269c"
      },
      "outputs": [
        {
          "output_type": "execute_result",
          "data": {
            "text/plain": [
              "<tf.Variable 'UnreadVariable' shape=(2,) dtype=int32, numpy=array([7, 7], dtype=int32)>"
            ]
          },
          "metadata": {},
          "execution_count": 12
        }
      ],
      "source": [
        "#You can change the changeable_tensor by only using the .assign method\n",
        "# But you can't chnage the unchangeable_tensor even with the .assign method\n",
        "changeable_tensor[0].assign(7)"
      ]
    },
    {
      "cell_type": "markdown",
      "metadata": {
        "id": "Uq4K_kPqB8EY"
      },
      "source": [
        "###Creating Random Tensors"
      ]
    },
    {
      "cell_type": "code",
      "execution_count": 13,
      "metadata": {
        "colab": {
          "base_uri": "https://localhost:8080/"
        },
        "id": "o_n7ls23CsPz",
        "outputId": "299fdc8f-bfde-4f75-db4d-51895fa719bc"
      },
      "outputs": [
        {
          "output_type": "execute_result",
          "data": {
            "text/plain": [
              "(<tf.Tensor: shape=(3, 2), dtype=float32, numpy=\n",
              " array([[-0.7565803 , -0.06854702],\n",
              "        [ 0.07595026, -1.2573844 ],\n",
              "        [-0.23193763, -1.8107855 ]], dtype=float32)>,\n",
              " <tf.Tensor: shape=(3, 2), dtype=float32, numpy=\n",
              " array([[-0.7565803 , -0.06854702],\n",
              "        [ 0.07595026, -1.2573844 ],\n",
              "        [-0.23193763, -1.8107855 ]], dtype=float32)>,\n",
              " <tf.Tensor: shape=(3, 2), dtype=bool, numpy=\n",
              " array([[ True,  True],\n",
              "        [ True,  True],\n",
              "        [ True,  True]])>)"
            ]
          },
          "metadata": {},
          "execution_count": 13
        }
      ],
      "source": [
        "random_1  = tf.random.Generator.from_seed(42) # set seed for reproducibility or replicable etc 42 is the general convention\n",
        "random_1 = random_1.normal(shape = (3,2))  # picks numbers from normal distribution\n",
        "random_2 = tf.random.Generator.from_seed(42)\n",
        "random_2 = random_2.normal(shape = (3,2))\n",
        "# Are they Equal ?\n",
        "random_1 , random_2 , random_1 == random_2"
      ]
    },
    {
      "cell_type": "markdown",
      "metadata": {
        "id": "ooJq_orDDmRe"
      },
      "source": [
        "###Shuffle the order of elements in tensor `tf.random.shuffle`\n",
        "\n",
        "---\n",
        "\n"
      ]
    },
    {
      "cell_type": "code",
      "execution_count": 14,
      "metadata": {
        "colab": {
          "base_uri": "https://localhost:8080/"
        },
        "id": "hgbcDifwCtRR",
        "outputId": "319acc82-b752-4d92-f701-bcd9f780f99a"
      },
      "outputs": [
        {
          "output_type": "execute_result",
          "data": {
            "text/plain": [
              "<tf.Tensor: shape=(3, 2), dtype=int32, numpy=\n",
              "array([[ 2,  5],\n",
              "       [10,  7],\n",
              "       [ 3,  4]], dtype=int32)>"
            ]
          },
          "metadata": {},
          "execution_count": 14
        }
      ],
      "source": [
        "not_shuffled = tf.constant([[10,7],[3,4],[2,5]])\n",
        "# not_shuffled.ndim = 2\n",
        "tf.random.shuffle(not_shuffled)"
      ]
    },
    {
      "cell_type": "code",
      "execution_count": 15,
      "metadata": {
        "colab": {
          "base_uri": "https://localhost:8080/"
        },
        "id": "KUjTBxRIEYeX",
        "outputId": "9f28a7be-f750-4784-e15a-f2a552242592"
      },
      "outputs": [
        {
          "output_type": "execute_result",
          "data": {
            "text/plain": [
              "<tf.Tensor: shape=(3, 2), dtype=int32, numpy=\n",
              "array([[10,  7],\n",
              "       [ 3,  4],\n",
              "       [ 2,  5]], dtype=int32)>"
            ]
          },
          "metadata": {},
          "execution_count": 15
        }
      ],
      "source": [
        "tf.random.set_seed(42)\n",
        "tf.random.shuffle(not_shuffled,seed = 42)"
      ]
    },
    {
      "cell_type": "markdown",
      "metadata": {
        "id": "inZYJCYGKs_R"
      },
      "source": [
        "**Practice** [`tf.random.set_seed`](https://www.tensorflow.org/api_docs/python/tf/random/set_seed)"
      ]
    },
    {
      "cell_type": "markdown",
      "metadata": {
        "id": "zTLkio2gLBRL"
      },
      "source": [
        "Imagine you have a magic dice that gives you a number every time you roll it. Usually, it gives a new, random number each time. But if you say a special word before you roll, like \"abracadabra 42,\" it will always give you the same numbers in the same order every time you say \"abracadabra 42\" and roll it again.\n",
        "\n",
        "In a computer, tf.random.set_seed is like saying that special word. When you set the seed (say \"abracadabra 42\"), the computer will remember and give you the same results whenever you \"roll\" (or run) your code again, making it feel a bit magical and predictable!"
      ]
    },
    {
      "cell_type": "code",
      "execution_count": 16,
      "metadata": {
        "colab": {
          "base_uri": "https://localhost:8080/"
        },
        "id": "fZCf3I0NGlOx",
        "outputId": "26247868-c77a-45ee-a525-0e18983bd52f"
      },
      "outputs": [
        {
          "output_type": "execute_result",
          "data": {
            "text/plain": [
              "<tf.Tensor: shape=(3, 2), dtype=int32, numpy=\n",
              "array([[10,  7],\n",
              "       [ 3,  4],\n",
              "       [ 5,  8]], dtype=int32)>"
            ]
          },
          "metadata": {},
          "execution_count": 16
        }
      ],
      "source": [
        "tf.random.set_seed(42)\n",
        "notshuf =  tf.constant([[10,7],[3,4],[5,8]])\n",
        "tf.random.shuffle(notshuf , seed = 42)"
      ]
    },
    {
      "cell_type": "markdown",
      "metadata": {
        "id": "vlnqJ9poU3IX"
      },
      "source": [
        "**practice end**"
      ]
    },
    {
      "cell_type": "markdown",
      "metadata": {
        "id": "IuTRMCai6pk1"
      },
      "source": [
        "###Other ways to make Tensors"
      ]
    },
    {
      "cell_type": "code",
      "execution_count": 17,
      "metadata": {
        "colab": {
          "base_uri": "https://localhost:8080/"
        },
        "id": "n-IiagEAKeyU",
        "outputId": "e9dce9c3-7697-4399-f3e2-874e367385bd"
      },
      "outputs": [
        {
          "output_type": "execute_result",
          "data": {
            "text/plain": [
              "<tf.Tensor: shape=(3, 3), dtype=int32, numpy=\n",
              "array([[1, 1, 1],\n",
              "       [1, 1, 1],\n",
              "       [1, 1, 1]], dtype=int32)>"
            ]
          },
          "metadata": {},
          "execution_count": 17
        }
      ],
      "source": [
        "tf.ones([3,3] , tf.int32) #tf.ones(shape as input and datatype too)"
      ]
    },
    {
      "cell_type": "code",
      "execution_count": 18,
      "metadata": {
        "id": "oNI4QHjU7CK_"
      },
      "outputs": [],
      "source": [
        "#tf.ones([10,3])  # default initialises float"
      ]
    },
    {
      "cell_type": "markdown",
      "metadata": {
        "id": "oQyE3QsW7leR"
      },
      "source": [
        "#####Turn Numpy arrays into Tensors:"
      ]
    },
    {
      "cell_type": "code",
      "execution_count": 19,
      "metadata": {
        "colab": {
          "base_uri": "https://localhost:8080/"
        },
        "id": "dxNILf3L7a9l",
        "outputId": "de80b3c7-ba2e-4b36-f90c-2c6a5a068e2b"
      },
      "outputs": [
        {
          "output_type": "execute_result",
          "data": {
            "text/plain": [
              "array([ 1,  2,  3,  4,  5,  6,  7,  8,  9, 10, 11, 12, 13, 14, 15, 16, 17,\n",
              "       18, 19, 20, 21, 22, 23, 24], dtype=int32)"
            ]
          },
          "metadata": {},
          "execution_count": 19
        }
      ],
      "source": [
        "import numpy as np\n",
        "a = np.arange(1,25,dtype = np.int32)\n",
        "a"
      ]
    },
    {
      "cell_type": "code",
      "execution_count": 20,
      "metadata": {
        "colab": {
          "base_uri": "https://localhost:8080/"
        },
        "id": "EyKnhq8o7_CX",
        "outputId": "b2d665ec-b093-4602-c68d-88fd02509708"
      },
      "outputs": [
        {
          "output_type": "execute_result",
          "data": {
            "text/plain": [
              "(<tf.Tensor: shape=(2, 3, 4), dtype=int32, numpy=\n",
              " array([[[ 1,  2,  3,  4],\n",
              "         [ 5,  6,  7,  8],\n",
              "         [ 9, 10, 11, 12]],\n",
              " \n",
              "        [[13, 14, 15, 16],\n",
              "         [17, 18, 19, 20],\n",
              "         [21, 22, 23, 24]]], dtype=int32)>,\n",
              " <tf.Tensor: shape=(24,), dtype=int32, numpy=\n",
              " array([ 1,  2,  3,  4,  5,  6,  7,  8,  9, 10, 11, 12, 13, 14, 15, 16, 17,\n",
              "        18, 19, 20, 21, 22, 23, 24], dtype=int32)>)"
            ]
          },
          "metadata": {},
          "execution_count": 20
        }
      ],
      "source": [
        "A = tf.constant(a , shape = ([2,3,4])) #💡 You can give anything that should be equal to 24 why? because in the array a there are only 24 elements so 2*3*4 is 24\n",
        "B = tf.constant(a)\n",
        "A , B\n"
      ]
    },
    {
      "cell_type": "markdown",
      "metadata": {
        "id": "UvZg-A0O6LIE"
      },
      "source": [
        "####Tensor attributes\n",
        "\n",
        "1.   shape (number of elements in each of the dimensions) : tensor.shape\n",
        "2.   Rank (Number of tensor dimensions)  : tensor.ndim\n",
        "3.   axis or dimension (particular dimension of tensor)  :  tensor[0] , tensor[:,1]\n",
        "4.   size (Total number of items in tensor) :  tf.size(tensor)\n"
      ]
    },
    {
      "cell_type": "code",
      "execution_count": 21,
      "metadata": {
        "colab": {
          "base_uri": "https://localhost:8080/"
        },
        "id": "gcg0NzGG8jFx",
        "outputId": "21d81905-1252-4ba6-b6e8-45b1dd6d5331"
      },
      "outputs": [
        {
          "output_type": "execute_result",
          "data": {
            "text/plain": [
              "<tf.Tensor: shape=(2, 3, 4, 5), dtype=float32, numpy=\n",
              "array([[[[0., 0., 0., 0., 0.],\n",
              "         [0., 0., 0., 0., 0.],\n",
              "         [0., 0., 0., 0., 0.],\n",
              "         [0., 0., 0., 0., 0.]],\n",
              "\n",
              "        [[0., 0., 0., 0., 0.],\n",
              "         [0., 0., 0., 0., 0.],\n",
              "         [0., 0., 0., 0., 0.],\n",
              "         [0., 0., 0., 0., 0.]],\n",
              "\n",
              "        [[0., 0., 0., 0., 0.],\n",
              "         [0., 0., 0., 0., 0.],\n",
              "         [0., 0., 0., 0., 0.],\n",
              "         [0., 0., 0., 0., 0.]]],\n",
              "\n",
              "\n",
              "       [[[0., 0., 0., 0., 0.],\n",
              "         [0., 0., 0., 0., 0.],\n",
              "         [0., 0., 0., 0., 0.],\n",
              "         [0., 0., 0., 0., 0.]],\n",
              "\n",
              "        [[0., 0., 0., 0., 0.],\n",
              "         [0., 0., 0., 0., 0.],\n",
              "         [0., 0., 0., 0., 0.],\n",
              "         [0., 0., 0., 0., 0.]],\n",
              "\n",
              "        [[0., 0., 0., 0., 0.],\n",
              "         [0., 0., 0., 0., 0.],\n",
              "         [0., 0., 0., 0., 0.],\n",
              "         [0., 0., 0., 0., 0.]]]], dtype=float32)>"
            ]
          },
          "metadata": {},
          "execution_count": 21
        }
      ],
      "source": [
        "# Create a rank 4 tensor\n",
        "rank_4_tensor = tf.zeros(shape = [2,3,4,5])\n",
        "rank_4_tensor"
      ]
    },
    {
      "cell_type": "code",
      "execution_count": 22,
      "metadata": {
        "colab": {
          "base_uri": "https://localhost:8080/"
        },
        "id": "Ksl348ZD7dxl",
        "outputId": "f747533f-ce72-46cb-e8c5-f2aa9bf432fe"
      },
      "outputs": [
        {
          "output_type": "stream",
          "name": "stdout",
          "text": [
            "(2, 3, 4, 5)\n",
            "4\n",
            "Element salong the 0 Axis : 2\n",
            "Elements along the last axis : 5\n",
            "tf.Tensor(120, shape=(), dtype=int32)\n",
            "Numpy 120\n"
          ]
        }
      ],
      "source": [
        "print(rank_4_tensor.shape)\n",
        "print(rank_4_tensor.ndim)\n",
        "print(\"Element salong the 0 Axis :\",rank_4_tensor.shape[0])\n",
        "print(\"Elements along the last axis :\",rank_4_tensor.shape[-1])\n",
        "print(tf.size(rank_4_tensor))\n",
        "print(\"Numpy\",tf.size(rank_4_tensor).numpy()) # convert to numpy -> .numpy()"
      ]
    },
    {
      "cell_type": "markdown",
      "metadata": {
        "id": "nItmD0DACqkE"
      },
      "source": [
        "####Indexing Tensors (just like python)"
      ]
    },
    {
      "cell_type": "code",
      "execution_count": 23,
      "metadata": {
        "colab": {
          "base_uri": "https://localhost:8080/"
        },
        "id": "G143HhJy8hpx",
        "outputId": "66ad61a0-0637-474c-9f2c-424e28ced7cd"
      },
      "outputs": [
        {
          "output_type": "execute_result",
          "data": {
            "text/plain": [
              "<tf.Tensor: shape=(2, 2, 2, 2), dtype=float32, numpy=\n",
              "array([[[[0., 0.],\n",
              "         [0., 0.]],\n",
              "\n",
              "        [[0., 0.],\n",
              "         [0., 0.]]],\n",
              "\n",
              "\n",
              "       [[[0., 0.],\n",
              "         [0., 0.]],\n",
              "\n",
              "        [[0., 0.],\n",
              "         [0., 0.]]]], dtype=float32)>"
            ]
          },
          "metadata": {},
          "execution_count": 23
        }
      ],
      "source": [
        "# Get the first two elements of each dimension\n",
        "rank_4_tensor[:2,:2,:2,:2]"
      ]
    },
    {
      "cell_type": "code",
      "execution_count": 24,
      "metadata": {
        "colab": {
          "base_uri": "https://localhost:8080/"
        },
        "id": "mmiuzhr8EO3R",
        "outputId": "bd125f1c-0ce8-4a31-d56d-ee3af72e8b08"
      },
      "outputs": [
        {
          "output_type": "stream",
          "name": "stdout",
          "text": [
            "tf.Tensor([[[[0. 0. 0. 0. 0.]]]], shape=(1, 1, 1, 5), dtype=float32)\n",
            "\n",
            "\n",
            "tf.Tensor([[[[0.]]]], shape=(1, 1, 1, 1), dtype=float32)\n",
            "\n",
            "\n",
            "tf.Tensor(\n",
            "[[[[0.]\n",
            "   [0.]\n",
            "   [0.]\n",
            "   [0.]]]], shape=(1, 1, 4, 1), dtype=float32)\n"
          ]
        }
      ],
      "source": [
        "# Get the first element from each dimension from each index except for the final one\n",
        "print(rank_4_tensor[:1 , :1, :1]) # also [:1,:1,:1,:] works\n",
        "# If [:1,:1,:,:1] all elements except the 4th dimension one\n",
        "print(\"\\n\")\n",
        "print(rank_4_tensor[:1,:1,:1,:1])\n",
        "print(\"\\n\")\n",
        "print(rank_4_tensor[:1,:1,:,:1])"
      ]
    },
    {
      "cell_type": "code",
      "execution_count": 25,
      "metadata": {
        "colab": {
          "base_uri": "https://localhost:8080/"
        },
        "id": "tXrXCnpGFj95",
        "outputId": "03cfe346-b918-48b6-82dc-223abcf2d121"
      },
      "outputs": [
        {
          "output_type": "execute_result",
          "data": {
            "text/plain": [
              "(TensorShape([2, 2]), 2)"
            ]
          },
          "metadata": {},
          "execution_count": 25
        }
      ],
      "source": [
        "rank2tensor = tf.constant([[10,7],[3,4]])\n",
        "rank2tensor.shape  , rank2tensor.ndim"
      ]
    },
    {
      "cell_type": "code",
      "source": [
        "# Get the last item of each row  of our rank  2 tensor\n",
        "rank2tensor[:,-1] # or rank2tensor[0: , 1:]"
      ],
      "metadata": {
        "id": "BJcrBi1skJia",
        "colab": {
          "base_uri": "https://localhost:8080/"
        },
        "outputId": "48a2fb65-b425-4222-b651-c90c136a30c2"
      },
      "execution_count": 26,
      "outputs": [
        {
          "output_type": "execute_result",
          "data": {
            "text/plain": [
              "<tf.Tensor: shape=(2,), dtype=int32, numpy=array([7, 4], dtype=int32)>"
            ]
          },
          "metadata": {},
          "execution_count": 26
        }
      ]
    },
    {
      "cell_type": "markdown",
      "source": [
        "#### Expanding or adding a new dimension"
      ],
      "metadata": {
        "id": "mgvcbOAjG97Q"
      }
    },
    {
      "cell_type": "code",
      "execution_count": 27,
      "metadata": {
        "id": "Ul1Aju41XY4o"
      },
      "outputs": [],
      "source": [
        "# Add in extra dimension to the ran 2 tensor\n",
        "rank3tensor = rank2tensor"
      ]
    },
    {
      "cell_type": "code",
      "source": [
        "rank3tensor = rank2tensor[: , : ,tf.newaxis]  # same as rank3tensor = rank2tensor[... , tf.newaxis]\n",
        "rank3tensor"
      ],
      "metadata": {
        "id": "TYR1ZOQdFENj",
        "colab": {
          "base_uri": "https://localhost:8080/"
        },
        "outputId": "7ae61e39-ad47-4d70-e75d-ff61f18014c7"
      },
      "execution_count": 28,
      "outputs": [
        {
          "output_type": "execute_result",
          "data": {
            "text/plain": [
              "<tf.Tensor: shape=(2, 2, 1), dtype=int32, numpy=\n",
              "array([[[10],\n",
              "        [ 7]],\n",
              "\n",
              "       [[ 3],\n",
              "        [ 4]]], dtype=int32)>"
            ]
          },
          "metadata": {},
          "execution_count": 28
        }
      ]
    },
    {
      "cell_type": "code",
      "source": [
        "# Alternative method\n",
        "tf.expand_dims(rank2tensor,axis = -1) # -1 signifes the last dimension or final dimension"
      ],
      "metadata": {
        "id": "WqkZRJweFyiX",
        "colab": {
          "base_uri": "https://localhost:8080/"
        },
        "outputId": "1c73f07a-5dbe-4702-d305-6f9347a47a29"
      },
      "execution_count": 29,
      "outputs": [
        {
          "output_type": "execute_result",
          "data": {
            "text/plain": [
              "<tf.Tensor: shape=(2, 2, 1), dtype=int32, numpy=\n",
              "array([[[10],\n",
              "        [ 7]],\n",
              "\n",
              "       [[ 3],\n",
              "        [ 4]]], dtype=int32)>"
            ]
          },
          "metadata": {},
          "execution_count": 29
        }
      ]
    },
    {
      "cell_type": "code",
      "source": [
        "tf.expand_dims(rank2tensor,axis = 0) # dimension added at first"
      ],
      "metadata": {
        "colab": {
          "base_uri": "https://localhost:8080/"
        },
        "id": "KbL1AO7gG348",
        "outputId": "8401fd7a-c3fb-4c40-ea20-07cf2887b321"
      },
      "execution_count": 30,
      "outputs": [
        {
          "output_type": "execute_result",
          "data": {
            "text/plain": [
              "<tf.Tensor: shape=(1, 2, 2), dtype=int32, numpy=\n",
              "array([[[10,  7],\n",
              "        [ 3,  4]]], dtype=int32)>"
            ]
          },
          "metadata": {},
          "execution_count": 30
        }
      ]
    },
    {
      "cell_type": "markdown",
      "source": [
        "### Manipulating Tensors (Tensor operations)\n",
        "**Basic Operations**"
      ],
      "metadata": {
        "id": "pKVYM7RvItaI"
      }
    },
    {
      "cell_type": "code",
      "source": [
        "# You can add value to the Tensors\n",
        "tensor = tf.constant([[10,7] , [3,4]])\n",
        "tensor +10"
      ],
      "metadata": {
        "id": "DZqwrNVGIVZP",
        "colab": {
          "base_uri": "https://localhost:8080/"
        },
        "outputId": "4ded5125-c68d-4b48-f1f8-3412096c8fcc"
      },
      "execution_count": 31,
      "outputs": [
        {
          "output_type": "execute_result",
          "data": {
            "text/plain": [
              "<tf.Tensor: shape=(2, 2), dtype=int32, numpy=\n",
              "array([[20, 17],\n",
              "       [13, 14]], dtype=int32)>"
            ]
          },
          "metadata": {},
          "execution_count": 31
        }
      ]
    },
    {
      "cell_type": "code",
      "source": [
        "# Original Tensor is unchanged\n",
        "tensor"
      ],
      "metadata": {
        "colab": {
          "base_uri": "https://localhost:8080/"
        },
        "id": "2rQL_QDqyVgU",
        "outputId": "bc032723-b4a2-49e7-8430-5fea617da467"
      },
      "execution_count": 32,
      "outputs": [
        {
          "output_type": "execute_result",
          "data": {
            "text/plain": [
              "<tf.Tensor: shape=(2, 2), dtype=int32, numpy=\n",
              "array([[10,  7],\n",
              "       [ 3,  4]], dtype=int32)>"
            ]
          },
          "metadata": {},
          "execution_count": 32
        }
      ]
    },
    {
      "cell_type": "code",
      "source": [
        "# Multiplication\n",
        "tensor *10"
      ],
      "metadata": {
        "colab": {
          "base_uri": "https://localhost:8080/"
        },
        "id": "6Udld_A5yg06",
        "outputId": "092d0529-c6d9-4378-a28b-df247e7dcdaf"
      },
      "execution_count": 33,
      "outputs": [
        {
          "output_type": "execute_result",
          "data": {
            "text/plain": [
              "<tf.Tensor: shape=(2, 2), dtype=int32, numpy=\n",
              "array([[100,  70],\n",
              "       [ 30,  40]], dtype=int32)>"
            ]
          },
          "metadata": {},
          "execution_count": 33
        }
      ]
    },
    {
      "cell_type": "code",
      "source": [
        "tensor -10"
      ],
      "metadata": {
        "colab": {
          "base_uri": "https://localhost:8080/"
        },
        "id": "s690feD-yoJ4",
        "outputId": "8fc6966e-fd8e-4f07-be83-f8f7ddb370a4"
      },
      "execution_count": 34,
      "outputs": [
        {
          "output_type": "execute_result",
          "data": {
            "text/plain": [
              "<tf.Tensor: shape=(2, 2), dtype=int32, numpy=\n",
              "array([[ 0, -3],\n",
              "       [-7, -6]], dtype=int32)>"
            ]
          },
          "metadata": {},
          "execution_count": 34
        }
      ]
    },
    {
      "cell_type": "code",
      "source": [
        "# We van use Tensorflow bulitin function too .math.multiply or .multiply etc\n",
        "tf.multiply(tensor,10)  # When you use tensorflow functions the operations are sped up using gpu"
      ],
      "metadata": {
        "colab": {
          "base_uri": "https://localhost:8080/"
        },
        "id": "wl8kVuYZy3jl",
        "outputId": "823ba251-5590-4be8-b81d-70a68eacb726"
      },
      "execution_count": 35,
      "outputs": [
        {
          "output_type": "execute_result",
          "data": {
            "text/plain": [
              "<tf.Tensor: shape=(2, 2), dtype=int32, numpy=\n",
              "array([[100,  70],\n",
              "       [ 30,  40]], dtype=int32)>"
            ]
          },
          "metadata": {},
          "execution_count": 35
        }
      ]
    },
    {
      "cell_type": "code",
      "source": [
        "tf.add( tensor ,1)"
      ],
      "metadata": {
        "colab": {
          "base_uri": "https://localhost:8080/"
        },
        "id": "qa8caKNly46j",
        "outputId": "1edeb508-0c11-4274-a995-d3203c35fa67"
      },
      "execution_count": 36,
      "outputs": [
        {
          "output_type": "execute_result",
          "data": {
            "text/plain": [
              "<tf.Tensor: shape=(2, 2), dtype=int32, numpy=\n",
              "array([[11,  8],\n",
              "       [ 4,  5]], dtype=int32)>"
            ]
          },
          "metadata": {},
          "execution_count": 36
        }
      ]
    },
    {
      "cell_type": "code",
      "source": [
        "tf.pow(tensor , 2 )   # similarly many functions are available in tensorflow .maximum() , .minimum() , .is_finite() etc.."
      ],
      "metadata": {
        "colab": {
          "base_uri": "https://localhost:8080/"
        },
        "id": "N6EgZmrHztro",
        "outputId": "0caa2eb9-cb21-4b41-a2bb-b1273f60718e"
      },
      "execution_count": 37,
      "outputs": [
        {
          "output_type": "execute_result",
          "data": {
            "text/plain": [
              "<tf.Tensor: shape=(2, 2), dtype=int32, numpy=\n",
              "array([[100,  49],\n",
              "       [  9,  16]], dtype=int32)>"
            ]
          },
          "metadata": {},
          "execution_count": 37
        }
      ]
    },
    {
      "cell_type": "markdown",
      "source": [
        "### Matrix Multiplication  `tf.linal.matmul`  ([Basic resource](https://www.mathsisfun.com/algebra/matrix-multiplying.html))\n",
        "**Matrix multiplication is one of the most operations done in Ml**\n",
        "\n",
        "Two short rules for Tensor Multiplication\n",
        "\n",
        "*   The inner dimensions must match\n",
        "*   The resulting dimension has the shape of the inner dimension\n",
        "\n",
        "\n",
        "\n"
      ],
      "metadata": {
        "id": "AoOYwzag0377"
      }
    },
    {
      "cell_type": "code",
      "source": [
        "print(tensor)\n",
        "tf.matmul(tensor ,tensor)"
      ],
      "metadata": {
        "colab": {
          "base_uri": "https://localhost:8080/"
        },
        "id": "p125KCJT0gy1",
        "outputId": "e30d47e5-5a53-479b-d396-23b54d9c98d4"
      },
      "execution_count": 38,
      "outputs": [
        {
          "output_type": "stream",
          "name": "stdout",
          "text": [
            "tf.Tensor(\n",
            "[[10  7]\n",
            " [ 3  4]], shape=(2, 2), dtype=int32)\n"
          ]
        },
        {
          "output_type": "execute_result",
          "data": {
            "text/plain": [
              "<tf.Tensor: shape=(2, 2), dtype=int32, numpy=\n",
              "array([[121,  98],\n",
              "       [ 42,  37]], dtype=int32)>"
            ]
          },
          "metadata": {},
          "execution_count": 38
        }
      ]
    },
    {
      "cell_type": "code",
      "source": [
        "# tensor * tensor is different its like tensor^2\n",
        "tensor * tensor"
      ],
      "metadata": {
        "colab": {
          "base_uri": "https://localhost:8080/"
        },
        "id": "NUwZotts4LHP",
        "outputId": "9fd6e050-3d27-4b9a-ecaf-7bf903f7b37c"
      },
      "execution_count": 39,
      "outputs": [
        {
          "output_type": "execute_result",
          "data": {
            "text/plain": [
              "<tf.Tensor: shape=(2, 2), dtype=int32, numpy=\n",
              "array([[100,  49],\n",
              "       [  9,  16]], dtype=int32)>"
            ]
          },
          "metadata": {},
          "execution_count": 39
        }
      ]
    },
    {
      "cell_type": "code",
      "source": [
        "# Hence you can multiply them with python operator \"@\"\n",
        "tensor @ tensor"
      ],
      "metadata": {
        "colab": {
          "base_uri": "https://localhost:8080/"
        },
        "id": "gurh9NDi497C",
        "outputId": "5aeec4ba-89b7-47de-9eec-8363e56a2fa8"
      },
      "execution_count": 40,
      "outputs": [
        {
          "output_type": "execute_result",
          "data": {
            "text/plain": [
              "<tf.Tensor: shape=(2, 2), dtype=int32, numpy=\n",
              "array([[121,  98],\n",
              "       [ 42,  37]], dtype=int32)>"
            ]
          },
          "metadata": {},
          "execution_count": 40
        }
      ]
    },
    {
      "cell_type": "code",
      "source": [
        "a = tf.constant([[1,2,5],[7,2,1],[3,3,3]])\n",
        "b = tf.constant([[3,5],[6,7],[1,8]])\n",
        "tf.matmul(a , b)"
      ],
      "metadata": {
        "colab": {
          "base_uri": "https://localhost:8080/"
        },
        "id": "wkD0Bdjq4WBl",
        "outputId": "7b749444-c621-4f1b-bf3b-14fb79114c92"
      },
      "execution_count": 41,
      "outputs": [
        {
          "output_type": "execute_result",
          "data": {
            "text/plain": [
              "<tf.Tensor: shape=(3, 2), dtype=int32, numpy=\n",
              "array([[20, 59],\n",
              "       [34, 57],\n",
              "       [30, 60]], dtype=int32)>"
            ]
          },
          "metadata": {},
          "execution_count": 41
        }
      ]
    },
    {
      "cell_type": "code",
      "source": [
        "c = tf.constant([[7,8,4],[3,9,10]])\n",
        "# tf.matmul(a,c)  here Matrix multiplication is not possible has 3 and 2 doesn't match"
      ],
      "metadata": {
        "id": "m0ebw4-f4o9R"
      },
      "execution_count": 42,
      "outputs": []
    },
    {
      "cell_type": "code",
      "source": [
        "# Hence we reshape c to 3,2 to match the shape\n",
        "tf.reshape(c , shape = (3,2))"
      ],
      "metadata": {
        "colab": {
          "base_uri": "https://localhost:8080/"
        },
        "id": "prgNCPmP7WgP",
        "outputId": "219037cb-9514-4bf9-8bb6-4dad76e11c08"
      },
      "execution_count": 43,
      "outputs": [
        {
          "output_type": "execute_result",
          "data": {
            "text/plain": [
              "<tf.Tensor: shape=(3, 2), dtype=int32, numpy=\n",
              "array([[ 7,  8],\n",
              "       [ 4,  3],\n",
              "       [ 9, 10]], dtype=int32)>"
            ]
          },
          "metadata": {},
          "execution_count": 43
        }
      ]
    },
    {
      "cell_type": "code",
      "source": [
        "# You can also transpose the matrix\n",
        "tf.transpose(c)\n"
      ],
      "metadata": {
        "colab": {
          "base_uri": "https://localhost:8080/"
        },
        "id": "vNfFvhk07nZP",
        "outputId": "e7cec2f2-57a5-4ccf-e069-76506bc39d9d"
      },
      "execution_count": 44,
      "outputs": [
        {
          "output_type": "execute_result",
          "data": {
            "text/plain": [
              "<tf.Tensor: shape=(3, 2), dtype=int32, numpy=\n",
              "array([[ 7,  3],\n",
              "       [ 8,  9],\n",
              "       [ 4, 10]], dtype=int32)>"
            ]
          },
          "metadata": {},
          "execution_count": 44
        }
      ]
    },
    {
      "cell_type": "code",
      "source": [
        "# Try Matrix Multiplication with Transpose rather than reshape()\n",
        "tf.matmul(a , tf.transpose(c))"
      ],
      "metadata": {
        "colab": {
          "base_uri": "https://localhost:8080/"
        },
        "id": "TDcJ5liu8T_4",
        "outputId": "e5a0f98e-8092-4bf6-f570-ebefdda967bc"
      },
      "execution_count": 45,
      "outputs": [
        {
          "output_type": "execute_result",
          "data": {
            "text/plain": [
              "<tf.Tensor: shape=(3, 2), dtype=int32, numpy=\n",
              "array([[43, 71],\n",
              "       [69, 49],\n",
              "       [57, 66]], dtype=int32)>"
            ]
          },
          "metadata": {},
          "execution_count": 45
        }
      ]
    },
    {
      "cell_type": "markdown",
      "source": [
        "### Dot Product `tf.tensordot()`\n"
      ],
      "metadata": {
        "id": "NDDtd78EA5Qd"
      }
    },
    {
      "cell_type": "code",
      "source": [
        "X = tf.constant([[1,2],[3,4],[5,6]])\n",
        "Y = tf.constant([[7,8],[9,10],[11,12]])\n",
        "X , Y"
      ],
      "metadata": {
        "colab": {
          "base_uri": "https://localhost:8080/"
        },
        "id": "1ZZw0cmA9Fxn",
        "outputId": "ec198e6c-b099-482d-f7a2-4e641c344d84"
      },
      "execution_count": 46,
      "outputs": [
        {
          "output_type": "execute_result",
          "data": {
            "text/plain": [
              "(<tf.Tensor: shape=(3, 2), dtype=int32, numpy=\n",
              " array([[1, 2],\n",
              "        [3, 4],\n",
              "        [5, 6]], dtype=int32)>,\n",
              " <tf.Tensor: shape=(3, 2), dtype=int32, numpy=\n",
              " array([[ 7,  8],\n",
              "        [ 9, 10],\n",
              "        [11, 12]], dtype=int32)>)"
            ]
          },
          "metadata": {},
          "execution_count": 46
        }
      ]
    },
    {
      "cell_type": "code",
      "source": [
        "#Performing the dot product\n",
        "tf.tensordot(tf.transpose(X) , Y , axes = 1)"
      ],
      "metadata": {
        "colab": {
          "base_uri": "https://localhost:8080/"
        },
        "id": "UfvIKFWFBS6q",
        "outputId": "fc099200-f021-4ea8-ab5a-1c2fbd52e033"
      },
      "execution_count": 47,
      "outputs": [
        {
          "output_type": "execute_result",
          "data": {
            "text/plain": [
              "<tf.Tensor: shape=(2, 2), dtype=int32, numpy=\n",
              "array([[ 89,  98],\n",
              "       [116, 128]], dtype=int32)>"
            ]
          },
          "metadata": {},
          "execution_count": 47
        }
      ]
    },
    {
      "cell_type": "code",
      "source": [
        "tf.tensordot(X , tf.transpose(Y) , axes = 1)"
      ],
      "metadata": {
        "colab": {
          "base_uri": "https://localhost:8080/"
        },
        "id": "ejSI9G5BEl-2",
        "outputId": "0390a428-09f4-4ef1-99d3-e83150b7980f"
      },
      "execution_count": 48,
      "outputs": [
        {
          "output_type": "execute_result",
          "data": {
            "text/plain": [
              "<tf.Tensor: shape=(3, 3), dtype=int32, numpy=\n",
              "array([[ 23,  29,  35],\n",
              "       [ 53,  67,  81],\n",
              "       [ 83, 105, 127]], dtype=int32)>"
            ]
          },
          "metadata": {},
          "execution_count": 48
        }
      ]
    },
    {
      "cell_type": "code",
      "source": [
        "# Matrix Multiplication using transpose\n",
        "tf.matmul(X , tf.transpose(Y))\n"
      ],
      "metadata": {
        "colab": {
          "base_uri": "https://localhost:8080/"
        },
        "id": "CZ3Ze74CBoEJ",
        "outputId": "e3da72e8-00e0-46a0-a930-1bbdbf903114"
      },
      "execution_count": 49,
      "outputs": [
        {
          "output_type": "execute_result",
          "data": {
            "text/plain": [
              "<tf.Tensor: shape=(3, 3), dtype=int32, numpy=\n",
              "array([[ 23,  29,  35],\n",
              "       [ 53,  67,  81],\n",
              "       [ 83, 105, 127]], dtype=int32)>"
            ]
          },
          "metadata": {},
          "execution_count": 49
        }
      ]
    },
    {
      "cell_type": "code",
      "source": [
        "# Matrix Multiplication using reshape\n",
        "tf.matmul(X, tf.reshape(Y , shape = (2,3)))            # You can see even you have used both the methods the answer are not the same why ? lets check out in next cell"
      ],
      "metadata": {
        "colab": {
          "base_uri": "https://localhost:8080/"
        },
        "id": "6DvR5_1kCbGq",
        "outputId": "e639f41d-7c1f-470c-f411-1e8124c1b8b2"
      },
      "execution_count": 50,
      "outputs": [
        {
          "output_type": "execute_result",
          "data": {
            "text/plain": [
              "<tf.Tensor: shape=(3, 3), dtype=int32, numpy=\n",
              "array([[ 27,  30,  33],\n",
              "       [ 61,  68,  75],\n",
              "       [ 95, 106, 117]], dtype=int32)>"
            ]
          },
          "metadata": {},
          "execution_count": 50
        }
      ]
    },
    {
      "cell_type": "code",
      "source": [
        "# Check Values of Y\n",
        "print('Normal Y :\\n')\n",
        "print(Y,\"\\n\")\n",
        "print(\"Reshaped Y :\\n\")\n",
        "print(tf.reshape(Y , shape = (2,3)))\n",
        "print('\\n')\n",
        "print(\"Transposed Y :\\n\")\n",
        "print(tf.transpose(Y))"
      ],
      "metadata": {
        "colab": {
          "base_uri": "https://localhost:8080/"
        },
        "id": "Sc_eKd-QCltP",
        "outputId": "32c8fe4e-a6bf-4101-9f11-9fe53de2e881"
      },
      "execution_count": 51,
      "outputs": [
        {
          "output_type": "stream",
          "name": "stdout",
          "text": [
            "Normal Y :\n",
            "\n",
            "tf.Tensor(\n",
            "[[ 7  8]\n",
            " [ 9 10]\n",
            " [11 12]], shape=(3, 2), dtype=int32) \n",
            "\n",
            "Reshaped Y :\n",
            "\n",
            "tf.Tensor(\n",
            "[[ 7  8  9]\n",
            " [10 11 12]], shape=(2, 3), dtype=int32)\n",
            "\n",
            "\n",
            "Transposed Y :\n",
            "\n",
            "tf.Tensor(\n",
            "[[ 7  9 11]\n",
            " [ 8 10 12]], shape=(2, 3), dtype=int32)\n"
          ]
        }
      ]
    },
    {
      "cell_type": "markdown",
      "source": [
        "Now i guess i know why it is different , reshape is just like reshuffling(one of the axes doesn't line up properly)  and transpose is the actual transpose of the matrix . Also the right way to multiply would be by transposing the matrix ❄"
      ],
      "metadata": {
        "id": "X7kuOU6MD6yJ"
      }
    },
    {
      "cell_type": "markdown",
      "source": [
        "### Changing the datatype of Tensor"
      ],
      "metadata": {
        "id": "8Is0RKY1xvnW"
      }
    },
    {
      "cell_type": "code",
      "source": [
        "B = tf.constant([10. , 7.8])\n",
        "B.dtype"
      ],
      "metadata": {
        "id": "LgtHkCMVDiEA",
        "colab": {
          "base_uri": "https://localhost:8080/"
        },
        "outputId": "fea23df0-0b00-4727-f80f-77defc935be9"
      },
      "execution_count": 52,
      "outputs": [
        {
          "output_type": "execute_result",
          "data": {
            "text/plain": [
              "tf.float32"
            ]
          },
          "metadata": {},
          "execution_count": 52
        }
      ]
    },
    {
      "cell_type": "code",
      "source": [
        "C = tf.constant([7,10])\n",
        "C.dtype"
      ],
      "metadata": {
        "colab": {
          "base_uri": "https://localhost:8080/"
        },
        "id": "Lqy2Mkn2x7fq",
        "outputId": "ddd154bb-1553-455b-becb-2cb69a92e0af"
      },
      "execution_count": 53,
      "outputs": [
        {
          "output_type": "execute_result",
          "data": {
            "text/plain": [
              "tf.int32"
            ]
          },
          "metadata": {},
          "execution_count": 53
        }
      ]
    },
    {
      "cell_type": "code",
      "source": [
        "# Change from float32 to float16  , This is called reduced precision\n",
        "D = tf.cast(B , dtype = tf.float16 )  # Now they take less space on memory and run faster\n",
        "D"
      ],
      "metadata": {
        "colab": {
          "base_uri": "https://localhost:8080/"
        },
        "id": "AKSS4jX0yE4f",
        "outputId": "e1c4eb18-b1de-49ac-a6b2-7fec5cbce49f"
      },
      "execution_count": 54,
      "outputs": [
        {
          "output_type": "execute_result",
          "data": {
            "text/plain": [
              "<tf.Tensor: shape=(2,), dtype=float16, numpy=array([10. ,  7.8], dtype=float16)>"
            ]
          },
          "metadata": {},
          "execution_count": 54
        }
      ]
    },
    {
      "cell_type": "code",
      "source": [
        "E = tf.cast(C , dtype = tf.float32)\n",
        "E"
      ],
      "metadata": {
        "colab": {
          "base_uri": "https://localhost:8080/"
        },
        "id": "IIONVKfO0sZn",
        "outputId": "454290d5-0bce-4728-e92d-0e08f22ede4e"
      },
      "execution_count": 55,
      "outputs": [
        {
          "output_type": "execute_result",
          "data": {
            "text/plain": [
              "<tf.Tensor: shape=(2,), dtype=float32, numpy=array([ 7., 10.], dtype=float32)>"
            ]
          },
          "metadata": {},
          "execution_count": 55
        }
      ]
    },
    {
      "cell_type": "code",
      "source": [
        "E_float16 = tf.cast(E , dtype = tf.float16)\n",
        "E_float16"
      ],
      "metadata": {
        "colab": {
          "base_uri": "https://localhost:8080/"
        },
        "id": "sYwKLoJg09Bd",
        "outputId": "44d38337-f5d4-4345-d383-ea369394c463"
      },
      "execution_count": 56,
      "outputs": [
        {
          "output_type": "execute_result",
          "data": {
            "text/plain": [
              "<tf.Tensor: shape=(2,), dtype=float16, numpy=array([ 7., 10.], dtype=float16)>"
            ]
          },
          "metadata": {},
          "execution_count": 56
        }
      ]
    },
    {
      "cell_type": "markdown",
      "source": [
        "### Aggregating Tensors\n",
        "\n",
        "**Aggregating tensors = condensing them from multiple values down to a smaller amount of values.**"
      ],
      "metadata": {
        "id": "tqrsq67x1Mag"
      }
    },
    {
      "cell_type": "code",
      "source": [
        "# Get the absolute values\n",
        "D = tf.constant([-7,10])\n",
        "tf.abs(D)  # D is unchanged remember !"
      ],
      "metadata": {
        "colab": {
          "base_uri": "https://localhost:8080/"
        },
        "id": "w3pcwoag1Jrq",
        "outputId": "638a6e43-8353-49bb-c25d-a3647b093775"
      },
      "execution_count": 57,
      "outputs": [
        {
          "output_type": "execute_result",
          "data": {
            "text/plain": [
              "<tf.Tensor: shape=(2,), dtype=int32, numpy=array([ 7, 10], dtype=int32)>"
            ]
          },
          "metadata": {},
          "execution_count": 57
        }
      ]
    },
    {
      "cell_type": "markdown",
      "source": [
        "#### Lets do the following forms of aggregation\n",
        "\n",
        "* Get the minimum\n",
        "* Get the maximum\n",
        "* Get the mean of a tensor\n",
        "* Get the sum of a tensor\n",
        "\n"
      ],
      "metadata": {
        "id": "bWSJjZ1E4Xxm"
      }
    },
    {
      "cell_type": "code",
      "source": [
        "A = tf.constant([1,2,3,4,5])\n",
        "B = tf.constant([6,7,8,9,10])"
      ],
      "metadata": {
        "id": "t3z1Cphc3_Tj"
      },
      "execution_count": 58,
      "outputs": []
    },
    {
      "cell_type": "code",
      "source": [
        "tf.maximum(A,B )  # Both A and B should have the same datatypes"
      ],
      "metadata": {
        "colab": {
          "base_uri": "https://localhost:8080/"
        },
        "id": "GHC5xrEh4yPD",
        "outputId": "3ad1f211-9631-469a-e22b-7c4ea215c2a4"
      },
      "execution_count": 59,
      "outputs": [
        {
          "output_type": "execute_result",
          "data": {
            "text/plain": [
              "<tf.Tensor: shape=(5,), dtype=int32, numpy=array([ 6,  7,  8,  9, 10], dtype=int32)>"
            ]
          },
          "metadata": {},
          "execution_count": 59
        }
      ]
    },
    {
      "cell_type": "code",
      "source": [
        "tf.minimum(A,B)"
      ],
      "metadata": {
        "colab": {
          "base_uri": "https://localhost:8080/"
        },
        "id": "atVD2ez26bL8",
        "outputId": "a4f08650-e51c-4fba-fdd9-bd5b722a8b1f"
      },
      "execution_count": 60,
      "outputs": [
        {
          "output_type": "execute_result",
          "data": {
            "text/plain": [
              "<tf.Tensor: shape=(5,), dtype=int32, numpy=array([1, 2, 3, 4, 5], dtype=int32)>"
            ]
          },
          "metadata": {},
          "execution_count": 60
        }
      ]
    },
    {
      "cell_type": "code",
      "source": [
        "A = tf.constant([[1,2,3,4,5],[23,45,32,54,32]])\n",
        "tf.maximum(A,B )"
      ],
      "metadata": {
        "colab": {
          "base_uri": "https://localhost:8080/"
        },
        "id": "WTXuhivz6P4j",
        "outputId": "bd751856-bb03-4398-9087-c35a550edd67"
      },
      "execution_count": 61,
      "outputs": [
        {
          "output_type": "execute_result",
          "data": {
            "text/plain": [
              "<tf.Tensor: shape=(2, 5), dtype=int32, numpy=\n",
              "array([[ 6,  7,  8,  9, 10],\n",
              "       [23, 45, 32, 54, 32]], dtype=int32)>"
            ]
          },
          "metadata": {},
          "execution_count": 61
        }
      ]
    },
    {
      "cell_type": "code",
      "source": [
        "tf.minimum(A,B)  # THESE MAXIMUM AND MINIMUM ARE DIFFERENT FUCTIONS AS COMPARED TO NORMAL MIN AND MAX"
      ],
      "metadata": {
        "colab": {
          "base_uri": "https://localhost:8080/"
        },
        "id": "nC77BnZL46Qx",
        "outputId": "abcb2efa-e0c9-417a-8c5a-59f251d322cf"
      },
      "execution_count": 62,
      "outputs": [
        {
          "output_type": "execute_result",
          "data": {
            "text/plain": [
              "<tf.Tensor: shape=(2, 5), dtype=int32, numpy=\n",
              "array([[ 1,  2,  3,  4,  5],\n",
              "       [ 6,  7,  8,  9, 10]], dtype=int32)>"
            ]
          },
          "metadata": {},
          "execution_count": 62
        }
      ]
    },
    {
      "cell_type": "code",
      "source": [
        "tf.reduce_mean(B) # Mean"
      ],
      "metadata": {
        "colab": {
          "base_uri": "https://localhost:8080/"
        },
        "id": "HXpXTRFk5el_",
        "outputId": "5d359304-0985-4562-bb95-e0d483c3ee10"
      },
      "execution_count": 63,
      "outputs": [
        {
          "output_type": "execute_result",
          "data": {
            "text/plain": [
              "<tf.Tensor: shape=(), dtype=int32, numpy=8>"
            ]
          },
          "metadata": {},
          "execution_count": 63
        }
      ]
    },
    {
      "cell_type": "code",
      "source": [
        "tf.reduce_mean(A) #sum of all elements of A by 10"
      ],
      "metadata": {
        "colab": {
          "base_uri": "https://localhost:8080/"
        },
        "id": "Not2mT8V6sRl",
        "outputId": "0ca76df9-b931-4a89-ec6e-2de8d034d3c8"
      },
      "execution_count": 64,
      "outputs": [
        {
          "output_type": "execute_result",
          "data": {
            "text/plain": [
              "<tf.Tensor: shape=(), dtype=int32, numpy=20>"
            ]
          },
          "metadata": {},
          "execution_count": 64
        }
      ]
    },
    {
      "cell_type": "code",
      "source": [
        "tf.reduce_min(B) #Original min and max"
      ],
      "metadata": {
        "colab": {
          "base_uri": "https://localhost:8080/"
        },
        "id": "xPjyJFgK61_c",
        "outputId": "9902b27a-1498-47d4-de0c-677682273179"
      },
      "execution_count": 65,
      "outputs": [
        {
          "output_type": "execute_result",
          "data": {
            "text/plain": [
              "<tf.Tensor: shape=(), dtype=int32, numpy=6>"
            ]
          },
          "metadata": {},
          "execution_count": 65
        }
      ]
    },
    {
      "cell_type": "code",
      "source": [
        "tf.reduce_max(A)"
      ],
      "metadata": {
        "colab": {
          "base_uri": "https://localhost:8080/"
        },
        "id": "NR9Wo9di7QHk",
        "outputId": "c82811eb-885e-4ddc-e653-2d364f789708"
      },
      "execution_count": 66,
      "outputs": [
        {
          "output_type": "execute_result",
          "data": {
            "text/plain": [
              "<tf.Tensor: shape=(), dtype=int32, numpy=54>"
            ]
          },
          "metadata": {},
          "execution_count": 66
        }
      ]
    },
    {
      "cell_type": "code",
      "source": [
        "tf.reduce_sum(B)"
      ],
      "metadata": {
        "colab": {
          "base_uri": "https://localhost:8080/"
        },
        "id": "WY1F5n0S7hXp",
        "outputId": "1fd96919-2655-4390-d332-2aeb064f517b"
      },
      "execution_count": 67,
      "outputs": [
        {
          "output_type": "execute_result",
          "data": {
            "text/plain": [
              "<tf.Tensor: shape=(), dtype=int32, numpy=40>"
            ]
          },
          "metadata": {},
          "execution_count": 67
        }
      ]
    },
    {
      "cell_type": "markdown",
      "source": [
        "####  Exercise : Find variance and standard deviation of the given `E` Tensor"
      ],
      "metadata": {
        "id": "APsLbj6z7wkI"
      }
    },
    {
      "cell_type": "code",
      "source": [
        "E = tf.constant(np.random.randint(0,100 , size = 50))\n",
        "E"
      ],
      "metadata": {
        "colab": {
          "base_uri": "https://localhost:8080/"
        },
        "id": "1PzEiEv67l9s",
        "outputId": "01736862-f487-4e13-dff4-64d8eed9e985"
      },
      "execution_count": 68,
      "outputs": [
        {
          "output_type": "execute_result",
          "data": {
            "text/plain": [
              "<tf.Tensor: shape=(50,), dtype=int64, numpy=\n",
              "array([56, 88, 61,  5, 23, 83, 80, 61, 12, 86, 96,  1, 83, 45, 24, 69, 89,\n",
              "       92, 99, 18,  6, 44,  5, 43, 72, 32, 98, 57,  6, 23, 91, 24,  2, 75,\n",
              "       58, 16, 77, 20, 71, 95, 36, 15, 46, 43, 61,  9,  5, 42, 26, 93])>"
            ]
          },
          "metadata": {},
          "execution_count": 68
        }
      ]
    },
    {
      "cell_type": "code",
      "source": [
        "variance = tf.math.reduce_variance(tf.cast(E , dtype = tf.float16 ))\n",
        "variance"
      ],
      "metadata": {
        "colab": {
          "base_uri": "https://localhost:8080/"
        },
        "id": "VNej5bG38U-t",
        "outputId": "12dc1f74-5902-4da7-b0c5-e498712f0300"
      },
      "execution_count": 69,
      "outputs": [
        {
          "output_type": "execute_result",
          "data": {
            "text/plain": [
              "<tf.Tensor: shape=(), dtype=float16, numpy=1017.0>"
            ]
          },
          "metadata": {},
          "execution_count": 69
        }
      ]
    },
    {
      "cell_type": "code",
      "source": [
        "std = tf.math.reduce_std(tf.cast(E , dtype = tf.float16 ))\n",
        "std"
      ],
      "metadata": {
        "colab": {
          "base_uri": "https://localhost:8080/"
        },
        "id": "zsACRzH_8f4M",
        "outputId": "b426268c-5651-44fa-cfdb-1f3cbb84bbdd"
      },
      "execution_count": 70,
      "outputs": [
        {
          "output_type": "execute_result",
          "data": {
            "text/plain": [
              "<tf.Tensor: shape=(), dtype=float16, numpy=31.89>"
            ]
          },
          "metadata": {},
          "execution_count": 70
        }
      ]
    },
    {
      "cell_type": "markdown",
      "source": [
        "**Alternate method**"
      ],
      "metadata": {
        "id": "1R165qcf95Ua"
      }
    },
    {
      "cell_type": "code",
      "source": [
        "import tensorflow_probability as tfp\n",
        "tfp.stats.variance(E)"
      ],
      "metadata": {
        "colab": {
          "base_uri": "https://localhost:8080/"
        },
        "id": "D_VV_kFM9XYF",
        "outputId": "944b2f07-4a9f-4d72-a2d2-6991242a74d3"
      },
      "execution_count": 71,
      "outputs": [
        {
          "output_type": "execute_result",
          "data": {
            "text/plain": [
              "<tf.Tensor: shape=(), dtype=int64, numpy=1016>"
            ]
          },
          "metadata": {},
          "execution_count": 71
        }
      ]
    },
    {
      "cell_type": "code",
      "source": [
        "tfp.stats.stddev(tf.cast(E , dtype = tf.float16))"
      ],
      "metadata": {
        "colab": {
          "base_uri": "https://localhost:8080/"
        },
        "id": "fs-ZzR9M9yVf",
        "outputId": "d5c9936b-c78c-4a22-a82c-1e5b3de3dce8"
      },
      "execution_count": 72,
      "outputs": [
        {
          "output_type": "execute_result",
          "data": {
            "text/plain": [
              "<tf.Tensor: shape=(), dtype=float16, numpy=31.89>"
            ]
          },
          "metadata": {},
          "execution_count": 72
        }
      ]
    },
    {
      "cell_type": "markdown",
      "source": [
        "###Find the positional maximum and minimum\n",
        "**These are like ,when a model gives out a probabilities of a particular item then the maximum one will be the correct item right so the same thing we areee going to do here**"
      ],
      "metadata": {
        "id": "ioNuoRt7Cx0K"
      }
    },
    {
      "cell_type": "code",
      "source": [
        "# Create a new Tensor for finding positional maximum and minuimum\n",
        "tf.random.set_seed(42)\n",
        "F = tf.random.uniform(shape = [50])\n",
        "F"
      ],
      "metadata": {
        "colab": {
          "base_uri": "https://localhost:8080/"
        },
        "id": "iURBoBQYCxbw",
        "outputId": "8001ab48-4003-46cb-fe79-ac4c38a04191"
      },
      "execution_count": 73,
      "outputs": [
        {
          "output_type": "execute_result",
          "data": {
            "text/plain": [
              "<tf.Tensor: shape=(50,), dtype=float32, numpy=\n",
              "array([0.6645621 , 0.44100678, 0.3528825 , 0.46448255, 0.03366041,\n",
              "       0.68467236, 0.74011743, 0.8724445 , 0.22632635, 0.22319686,\n",
              "       0.3103881 , 0.7223358 , 0.13318717, 0.5480639 , 0.5746088 ,\n",
              "       0.8996835 , 0.00946367, 0.5212307 , 0.6345445 , 0.1993283 ,\n",
              "       0.72942245, 0.54583454, 0.10756552, 0.6767061 , 0.6602763 ,\n",
              "       0.33695042, 0.60141766, 0.21062577, 0.8527372 , 0.44062173,\n",
              "       0.9485276 , 0.23752594, 0.81179297, 0.5263394 , 0.494308  ,\n",
              "       0.21612847, 0.8457197 , 0.8718841 , 0.3083862 , 0.6868038 ,\n",
              "       0.23764038, 0.7817228 , 0.9671384 , 0.06870162, 0.79873943,\n",
              "       0.66028714, 0.5871513 , 0.16461694, 0.7381023 , 0.32054043],\n",
              "      dtype=float32)>"
            ]
          },
          "metadata": {},
          "execution_count": 73
        }
      ]
    },
    {
      "cell_type": "code",
      "source": [
        "# Find the positional maximum\n",
        "tf.argmax(F)  # the argmax returns the index of the higest probability"
      ],
      "metadata": {
        "id": "f2pVCsya-CCt",
        "colab": {
          "base_uri": "https://localhost:8080/"
        },
        "outputId": "7fcdcb7e-b069-4122-f4be-8f8156049939"
      },
      "execution_count": 74,
      "outputs": [
        {
          "output_type": "execute_result",
          "data": {
            "text/plain": [
              "<tf.Tensor: shape=(), dtype=int64, numpy=42>"
            ]
          },
          "metadata": {},
          "execution_count": 74
        }
      ]
    },
    {
      "cell_type": "code",
      "source": [
        "F[tf.argmax(F)]"
      ],
      "metadata": {
        "colab": {
          "base_uri": "https://localhost:8080/"
        },
        "id": "qTcPXMA-DwJA",
        "outputId": "1cd10a1d-a62e-4eaf-d018-c9a27321200f"
      },
      "execution_count": 75,
      "outputs": [
        {
          "output_type": "execute_result",
          "data": {
            "text/plain": [
              "<tf.Tensor: shape=(), dtype=float32, numpy=0.9671384>"
            ]
          },
          "metadata": {},
          "execution_count": 75
        }
      ]
    },
    {
      "cell_type": "code",
      "source": [
        "tf.reduce_max(F)"
      ],
      "metadata": {
        "colab": {
          "base_uri": "https://localhost:8080/"
        },
        "id": "Ky9aO4cID8hc",
        "outputId": "3124f7cf-15bc-4d6a-b1cc-db4eaeb7ff73"
      },
      "execution_count": 76,
      "outputs": [
        {
          "output_type": "execute_result",
          "data": {
            "text/plain": [
              "<tf.Tensor: shape=(), dtype=float32, numpy=0.9671384>"
            ]
          },
          "metadata": {},
          "execution_count": 76
        }
      ]
    },
    {
      "cell_type": "code",
      "source": [
        "# Check for Equality\n",
        "F[tf.argmax(F)] == tf.reduce_max(F)"
      ],
      "metadata": {
        "colab": {
          "base_uri": "https://localhost:8080/"
        },
        "id": "OJOHOkLUEAUC",
        "outputId": "cc99724e-6bc7-4456-82c6-18b5f21a41a7"
      },
      "execution_count": 77,
      "outputs": [
        {
          "output_type": "execute_result",
          "data": {
            "text/plain": [
              "<tf.Tensor: shape=(), dtype=bool, numpy=True>"
            ]
          },
          "metadata": {},
          "execution_count": 77
        }
      ]
    },
    {
      "cell_type": "code",
      "source": [
        "# Fid the positional minimum\n",
        "tf.argmin(F)"
      ],
      "metadata": {
        "colab": {
          "base_uri": "https://localhost:8080/"
        },
        "id": "0t5z0KIKEVMW",
        "outputId": "6691812f-bf95-4321-982b-dadfde09502b"
      },
      "execution_count": 78,
      "outputs": [
        {
          "output_type": "execute_result",
          "data": {
            "text/plain": [
              "<tf.Tensor: shape=(), dtype=int64, numpy=16>"
            ]
          },
          "metadata": {},
          "execution_count": 78
        }
      ]
    },
    {
      "cell_type": "code",
      "source": [
        "F[tf.argmin(F)]"
      ],
      "metadata": {
        "colab": {
          "base_uri": "https://localhost:8080/"
        },
        "id": "EqV_E6atE3dh",
        "outputId": "e9874b0c-ee42-42e7-e0d4-454943b4e430"
      },
      "execution_count": 79,
      "outputs": [
        {
          "output_type": "execute_result",
          "data": {
            "text/plain": [
              "<tf.Tensor: shape=(), dtype=float32, numpy=0.009463668>"
            ]
          },
          "metadata": {},
          "execution_count": 79
        }
      ]
    },
    {
      "cell_type": "markdown",
      "source": [
        "### Squeezing a tensor (Removing all single dimensions)"
      ],
      "metadata": {
        "id": "Tcc8sO53HS29"
      }
    },
    {
      "cell_type": "code",
      "source": [
        "G = tf.constant(tf.random.uniform(shape = [50]) , shape = (1,1,1,1,50))\n",
        "G"
      ],
      "metadata": {
        "colab": {
          "base_uri": "https://localhost:8080/"
        },
        "id": "vYCbypMNHSiB",
        "outputId": "2dc3fe40-d58c-4b7d-8e1c-7a77dde182c0"
      },
      "execution_count": 80,
      "outputs": [
        {
          "output_type": "execute_result",
          "data": {
            "text/plain": [
              "<tf.Tensor: shape=(1, 1, 1, 1, 50), dtype=float32, numpy=\n",
              "array([[[[[0.68789124, 0.48447883, 0.9309944 , 0.252187  , 0.73115396,\n",
              "           0.89256823, 0.94674826, 0.7493341 , 0.34925628, 0.54718256,\n",
              "           0.26160395, 0.69734323, 0.11962581, 0.53484344, 0.7148968 ,\n",
              "           0.87501776, 0.33967495, 0.17377627, 0.4418521 , 0.9008261 ,\n",
              "           0.13803864, 0.12217975, 0.5754491 , 0.9417181 , 0.9186585 ,\n",
              "           0.59708476, 0.6109482 , 0.82086265, 0.83269787, 0.8915849 ,\n",
              "           0.01377225, 0.49807465, 0.57503664, 0.6856195 , 0.75972784,\n",
              "           0.908944  , 0.40900218, 0.8765154 , 0.53890026, 0.42733097,\n",
              "           0.401173  , 0.66623247, 0.16348064, 0.18220246, 0.97040176,\n",
              "           0.06139731, 0.53034747, 0.9869994 , 0.4746945 , 0.8646754 ]]]]],\n",
              "      dtype=float32)>"
            ]
          },
          "metadata": {},
          "execution_count": 80
        }
      ]
    },
    {
      "cell_type": "code",
      "source": [
        "G_squeezed = tf.squeeze(G) # 't' is a tensor of shape [1, 2, 1, 3, 1, 1]\n",
        "G_squeezed , G_squeezed.shape                         # tf.shape(tf.squeeze(t))  # [2, 3]"
      ],
      "metadata": {
        "colab": {
          "base_uri": "https://localhost:8080/"
        },
        "id": "46UmURzYE-Hm",
        "outputId": "0f879c60-082b-4e53-8834-dad0aaa90882"
      },
      "execution_count": 81,
      "outputs": [
        {
          "output_type": "execute_result",
          "data": {
            "text/plain": [
              "(<tf.Tensor: shape=(50,), dtype=float32, numpy=\n",
              " array([0.68789124, 0.48447883, 0.9309944 , 0.252187  , 0.73115396,\n",
              "        0.89256823, 0.94674826, 0.7493341 , 0.34925628, 0.54718256,\n",
              "        0.26160395, 0.69734323, 0.11962581, 0.53484344, 0.7148968 ,\n",
              "        0.87501776, 0.33967495, 0.17377627, 0.4418521 , 0.9008261 ,\n",
              "        0.13803864, 0.12217975, 0.5754491 , 0.9417181 , 0.9186585 ,\n",
              "        0.59708476, 0.6109482 , 0.82086265, 0.83269787, 0.8915849 ,\n",
              "        0.01377225, 0.49807465, 0.57503664, 0.6856195 , 0.75972784,\n",
              "        0.908944  , 0.40900218, 0.8765154 , 0.53890026, 0.42733097,\n",
              "        0.401173  , 0.66623247, 0.16348064, 0.18220246, 0.97040176,\n",
              "        0.06139731, 0.53034747, 0.9869994 , 0.4746945 , 0.8646754 ],\n",
              "       dtype=float32)>,\n",
              " TensorShape([50]))"
            ]
          },
          "metadata": {},
          "execution_count": 81
        }
      ]
    },
    {
      "cell_type": "markdown",
      "source": [
        "### One-hot encoding in Tensors"
      ],
      "metadata": {
        "id": "LzYQFpanIHRe"
      }
    },
    {
      "cell_type": "code",
      "source": [
        "# Create a list of indices\n",
        "some_list = [0,1,2,3] # say if red,yellow,blue,green are there then hot encoding just means the stage prior to applying to a neural network which is numerical processing,\n",
        "                      # this a part of it. If it is the red's turn thena ll others turn to be '0' and red is '1'.\n",
        "# One hot encode them\n",
        "tf.one_hot(some_list , depth = 4)"
      ],
      "metadata": {
        "colab": {
          "base_uri": "https://localhost:8080/"
        },
        "id": "LZpZw0p4IAl4",
        "outputId": "1853b69c-94f8-41e2-e52c-b0612d93238a"
      },
      "execution_count": 82,
      "outputs": [
        {
          "output_type": "execute_result",
          "data": {
            "text/plain": [
              "<tf.Tensor: shape=(4, 4), dtype=float32, numpy=\n",
              "array([[1., 0., 0., 0.],\n",
              "       [0., 1., 0., 0.],\n",
              "       [0., 0., 1., 0.],\n",
              "       [0., 0., 0., 1.]], dtype=float32)>"
            ]
          },
          "metadata": {},
          "execution_count": 82
        }
      ]
    },
    {
      "cell_type": "code",
      "source": [
        "tf.one_hot(some_list , depth = 3)"
      ],
      "metadata": {
        "colab": {
          "base_uri": "https://localhost:8080/"
        },
        "id": "YWEfWyWgJSER",
        "outputId": "75b96a9d-31a9-42a9-d4cc-2de2b0272d98"
      },
      "execution_count": 83,
      "outputs": [
        {
          "output_type": "execute_result",
          "data": {
            "text/plain": [
              "<tf.Tensor: shape=(4, 3), dtype=float32, numpy=\n",
              "array([[1., 0., 0.],\n",
              "       [0., 1., 0.],\n",
              "       [0., 0., 1.],\n",
              "       [0., 0., 0.]], dtype=float32)>"
            ]
          },
          "metadata": {},
          "execution_count": 83
        }
      ]
    },
    {
      "cell_type": "code",
      "source": [
        "# Specify custom values for one hot encoding\n",
        "tf.one_hot(some_list , depth = 4 , on_value='I Love Deep Learning' , off_value='I Love Machine Learning')"
      ],
      "metadata": {
        "colab": {
          "base_uri": "https://localhost:8080/"
        },
        "id": "bM8P0BcBMXeJ",
        "outputId": "8f34ac83-dcbe-4f3c-c563-e4aebc877284"
      },
      "execution_count": 84,
      "outputs": [
        {
          "output_type": "execute_result",
          "data": {
            "text/plain": [
              "<tf.Tensor: shape=(4, 4), dtype=string, numpy=\n",
              "array([[b'I Love Deep Learning', b'I Love Machine Learning',\n",
              "        b'I Love Machine Learning', b'I Love Machine Learning'],\n",
              "       [b'I Love Machine Learning', b'I Love Deep Learning',\n",
              "        b'I Love Machine Learning', b'I Love Machine Learning'],\n",
              "       [b'I Love Machine Learning', b'I Love Machine Learning',\n",
              "        b'I Love Deep Learning', b'I Love Machine Learning'],\n",
              "       [b'I Love Machine Learning', b'I Love Machine Learning',\n",
              "        b'I Love Machine Learning', b'I Love Deep Learning']],\n",
              "      dtype=object)>"
            ]
          },
          "metadata": {},
          "execution_count": 84
        }
      ]
    },
    {
      "cell_type": "code",
      "source": [
        "tf.one_hot(some_list , depth = 4 , on_value='ONE' , off_value='ZERO')"
      ],
      "metadata": {
        "colab": {
          "base_uri": "https://localhost:8080/"
        },
        "id": "fxh6gxk4NDHr",
        "outputId": "b5e590fe-dfc4-4d01-caec-8814a872eda8"
      },
      "execution_count": 85,
      "outputs": [
        {
          "output_type": "execute_result",
          "data": {
            "text/plain": [
              "<tf.Tensor: shape=(4, 4), dtype=string, numpy=\n",
              "array([[b'ONE', b'ZERO', b'ZERO', b'ZERO'],\n",
              "       [b'ZERO', b'ONE', b'ZERO', b'ZERO'],\n",
              "       [b'ZERO', b'ZERO', b'ONE', b'ZERO'],\n",
              "       [b'ZERO', b'ZERO', b'ZERO', b'ONE']], dtype=object)>"
            ]
          },
          "metadata": {},
          "execution_count": 85
        }
      ]
    },
    {
      "cell_type": "markdown",
      "source": [
        "### Maths practice : Squaring  , log ,square root etc"
      ],
      "metadata": {
        "id": "3OmErIQqNtdk"
      }
    },
    {
      "cell_type": "code",
      "source": [
        "# Create a new tensor\n",
        "H = tf.range(1,10) # NOTE : 10 is exclusive\n",
        "H"
      ],
      "metadata": {
        "colab": {
          "base_uri": "https://localhost:8080/"
        },
        "id": "8QZAzsRdNPVL",
        "outputId": "ca348b20-2479-4581-dcda-10973261b594"
      },
      "execution_count": 86,
      "outputs": [
        {
          "output_type": "execute_result",
          "data": {
            "text/plain": [
              "<tf.Tensor: shape=(9,), dtype=int32, numpy=array([1, 2, 3, 4, 5, 6, 7, 8, 9], dtype=int32)>"
            ]
          },
          "metadata": {},
          "execution_count": 86
        }
      ]
    },
    {
      "cell_type": "code",
      "source": [
        "tf.square(H)"
      ],
      "metadata": {
        "colab": {
          "base_uri": "https://localhost:8080/"
        },
        "id": "KfKxGLiKNz49",
        "outputId": "d364b015-623f-4aaf-fea0-9b8c868924e7"
      },
      "execution_count": 87,
      "outputs": [
        {
          "output_type": "execute_result",
          "data": {
            "text/plain": [
              "<tf.Tensor: shape=(9,), dtype=int32, numpy=array([ 1,  4,  9, 16, 25, 36, 49, 64, 81], dtype=int32)>"
            ]
          },
          "metadata": {},
          "execution_count": 87
        }
      ]
    },
    {
      "cell_type": "code",
      "source": [
        "tf.sqrt(tf.cast(H , dtype = tf.float16)) # NOTE : sqrt accepts only float, bfloat16, half, float32, float64 etc.."
      ],
      "metadata": {
        "colab": {
          "base_uri": "https://localhost:8080/"
        },
        "id": "8VbCbaTHN8rM",
        "outputId": "6cafd3e4-0235-42d6-c5f3-b690a72f0b69"
      },
      "execution_count": 88,
      "outputs": [
        {
          "output_type": "execute_result",
          "data": {
            "text/plain": [
              "<tf.Tensor: shape=(9,), dtype=float16, numpy=\n",
              "array([1.   , 1.414, 1.732, 2.   , 2.236, 2.45 , 2.646, 2.828, 3.   ],\n",
              "      dtype=float16)>"
            ]
          },
          "metadata": {},
          "execution_count": 88
        }
      ]
    },
    {
      "cell_type": "code",
      "source": [
        "# Find  the log\n",
        "tf.math.log(tf.cast(H , dtype = tf.float32))"
      ],
      "metadata": {
        "colab": {
          "base_uri": "https://localhost:8080/"
        },
        "id": "hOrJSAQ8OJTw",
        "outputId": "9778fc40-895a-46b9-f4bf-5126e17cce99"
      },
      "execution_count": 89,
      "outputs": [
        {
          "output_type": "execute_result",
          "data": {
            "text/plain": [
              "<tf.Tensor: shape=(9,), dtype=float32, numpy=\n",
              "array([0.       , 0.6931472, 1.0986123, 1.3862944, 1.609438 , 1.7917595,\n",
              "       1.9459102, 2.0794415, 2.1972246], dtype=float32)>"
            ]
          },
          "metadata": {},
          "execution_count": 89
        }
      ]
    },
    {
      "cell_type": "code",
      "source": [
        "tf.math.is_strictly_increasing(H) # Checks if the tensor is in increasing order"
      ],
      "metadata": {
        "colab": {
          "base_uri": "https://localhost:8080/"
        },
        "id": "yD2fgLLcOhNJ",
        "outputId": "b35da1e7-7a9c-490d-e878-6a95e73df03e"
      },
      "execution_count": 90,
      "outputs": [
        {
          "output_type": "execute_result",
          "data": {
            "text/plain": [
              "<tf.Tensor: shape=(), dtype=bool, numpy=True>"
            ]
          },
          "metadata": {},
          "execution_count": 90
        }
      ]
    },
    {
      "cell_type": "code",
      "source": [
        "E = tf.constant([1,2,3,4,5,8,12,13,12])\n",
        "tf.math.greater_equal(H , E)  # Check if x >= y same way, less_equal works"
      ],
      "metadata": {
        "colab": {
          "base_uri": "https://localhost:8080/"
        },
        "id": "KlSOfnNEPD23",
        "outputId": "daad6f80-9ed8-4670-85a6-ac79d9c342dc"
      },
      "execution_count": 91,
      "outputs": [
        {
          "output_type": "execute_result",
          "data": {
            "text/plain": [
              "<tf.Tensor: shape=(9,), dtype=bool, numpy=array([ True,  True,  True,  True,  True, False, False, False, False])>"
            ]
          },
          "metadata": {},
          "execution_count": 91
        }
      ]
    },
    {
      "cell_type": "code",
      "source": [
        "tf.math.less_equal(H,E) # [1,2,3,4,5,6,7,8,9] < = [1,2,3,4,5,8,12,13,12]"
      ],
      "metadata": {
        "colab": {
          "base_uri": "https://localhost:8080/"
        },
        "id": "IAQcOyPAPn1x",
        "outputId": "389029cc-b97a-4cac-f801-53c866e71ecc"
      },
      "execution_count": 92,
      "outputs": [
        {
          "output_type": "execute_result",
          "data": {
            "text/plain": [
              "<tf.Tensor: shape=(9,), dtype=bool, numpy=array([ True,  True,  True,  True,  True,  True,  True,  True,  True])>"
            ]
          },
          "metadata": {},
          "execution_count": 92
        }
      ]
    },
    {
      "cell_type": "markdown",
      "source": [
        "### Tensors and  Numpy\n",
        "Tensorflow interacts beautifully with NumPy arrays"
      ],
      "metadata": {
        "id": "hb8EdnvEX_Yd"
      }
    },
    {
      "cell_type": "code",
      "source": [
        "# Create a Tensor directly from a Numpy array\n",
        "J = tf.constant(np.array([3.,7.,10.]))\n",
        "J"
      ],
      "metadata": {
        "id": "TSLkXEDQQZMv",
        "colab": {
          "base_uri": "https://localhost:8080/"
        },
        "outputId": "aa1831d2-1bd1-4241-e91c-0601ec5baf99"
      },
      "execution_count": 93,
      "outputs": [
        {
          "output_type": "execute_result",
          "data": {
            "text/plain": [
              "<tf.Tensor: shape=(3,), dtype=float64, numpy=array([ 3.,  7., 10.])>"
            ]
          },
          "metadata": {},
          "execution_count": 93
        }
      ]
    },
    {
      "cell_type": "code",
      "source": [
        "# Convert tensor J to a Numpy Array\n",
        "np.array(J) , type(np.array(J))"
      ],
      "metadata": {
        "colab": {
          "base_uri": "https://localhost:8080/"
        },
        "id": "6Vg2m-PpYdpR",
        "outputId": "8d5f2627-3ad9-4309-f9bf-42d67408317f"
      },
      "execution_count": 94,
      "outputs": [
        {
          "output_type": "execute_result",
          "data": {
            "text/plain": [
              "(array([ 3.,  7., 10.]), numpy.ndarray)"
            ]
          },
          "metadata": {},
          "execution_count": 94
        }
      ]
    },
    {
      "cell_type": "code",
      "source": [
        "# Alternate way\n",
        "J.numpy() , type(J.numpy())"
      ],
      "metadata": {
        "colab": {
          "base_uri": "https://localhost:8080/"
        },
        "id": "7uVA5wE2Y4S0",
        "outputId": "ff42894f-47c0-49ca-d5f2-1a2f749ba0f4"
      },
      "execution_count": 95,
      "outputs": [
        {
          "output_type": "execute_result",
          "data": {
            "text/plain": [
              "(array([ 3.,  7., 10.]), numpy.ndarray)"
            ]
          },
          "metadata": {},
          "execution_count": 95
        }
      ]
    },
    {
      "cell_type": "code",
      "source": [
        "# Acessing elements\n",
        "J = tf.constant([3.])\n",
        "J.numpy()"
      ],
      "metadata": {
        "colab": {
          "base_uri": "https://localhost:8080/"
        },
        "id": "gYqbcwT1ZkFo",
        "outputId": "22cf9330-3e7a-4bd5-f0c0-b835ea26f646"
      },
      "execution_count": 96,
      "outputs": [
        {
          "output_type": "execute_result",
          "data": {
            "text/plain": [
              "array([3.], dtype=float32)"
            ]
          },
          "metadata": {},
          "execution_count": 96
        }
      ]
    },
    {
      "cell_type": "code",
      "source": [
        "J.numpy()[0]"
      ],
      "metadata": {
        "colab": {
          "base_uri": "https://localhost:8080/"
        },
        "id": "y--P8oDHZxaV",
        "outputId": "8fbccadc-3969-41d3-f301-e0895041059b"
      },
      "execution_count": 97,
      "outputs": [
        {
          "output_type": "execute_result",
          "data": {
            "text/plain": [
              "3.0"
            ]
          },
          "metadata": {},
          "execution_count": 97
        }
      ]
    },
    {
      "cell_type": "code",
      "source": [
        "# The deafult types of each are slightly different\n",
        "numpy_J = tf.constant(np.array([3.,7.,10.]))\n",
        "tensor_J = tf.constant([3.,7.,10.])\n",
        "# Check the datatypes of each\n",
        "numpy_J.dtype , tensor_J.dtype"
      ],
      "metadata": {
        "colab": {
          "base_uri": "https://localhost:8080/"
        },
        "id": "dlAHH3l-Z7wh",
        "outputId": "a80ce861-99aa-4ca2-b5d2-ffebac4c9047"
      },
      "execution_count": 98,
      "outputs": [
        {
          "output_type": "execute_result",
          "data": {
            "text/plain": [
              "(tf.float64, tf.float32)"
            ]
          },
          "metadata": {},
          "execution_count": 98
        }
      ]
    },
    {
      "cell_type": "markdown",
      "source": [
        "#### tetetetttaffasdgsgdgdfhdfgPractice Exercise"
      ],
      "metadata": {
        "id": "mqVV9gYGb_5n"
      }
    },
    {
      "cell_type": "code",
      "source": [
        "# Create the first tensor\n",
        "tensor1 = tf.constant(np.random.rand(5, 300))\n",
        "# Create the second tensor\n",
        "tensor2 = tf.constant(np.random.rand(5,300,))\n",
        "# To see the output, run the code.\n",
        "#tensor1 , tensor2"
      ],
      "metadata": {
        "id": "DrWDleSVce1O"
      },
      "execution_count": 99,
      "outputs": []
    },
    {
      "cell_type": "code",
      "source": [
        "tf.matmul(tensor1 , tf.transpose(tensor2))"
      ],
      "metadata": {
        "colab": {
          "base_uri": "https://localhost:8080/"
        },
        "id": "KpsIk5Gfeocg",
        "outputId": "03fbb86e-4931-46d8-af70-2a4a16f6099a"
      },
      "execution_count": 100,
      "outputs": [
        {
          "output_type": "execute_result",
          "data": {
            "text/plain": [
              "<tf.Tensor: shape=(5, 5), dtype=float64, numpy=\n",
              "array([[73.4358181 , 74.68396331, 71.80182734, 71.67402508, 69.90764112],\n",
              "       [73.74098521, 77.74104813, 70.68688358, 71.2540371 , 67.88441773],\n",
              "       [77.95136672, 78.18149733, 71.88381185, 76.02491962, 71.79541071],\n",
              "       [79.16836294, 79.89231677, 76.40599151, 77.63449193, 76.079514  ],\n",
              "       [76.26582739, 78.41142471, 71.88151357, 71.62552172, 73.02050658]])>"
            ]
          },
          "metadata": {},
          "execution_count": 100
        }
      ]
    },
    {
      "cell_type": "code",
      "source": [
        "tf.tensordot( tensor1 , tf.transpose(tensor2) , axes = 1)"
      ],
      "metadata": {
        "colab": {
          "base_uri": "https://localhost:8080/"
        },
        "id": "HhoHsnuhe9MZ",
        "outputId": "2ba8de81-6859-41a1-d16d-9a9f256e75d8"
      },
      "execution_count": 101,
      "outputs": [
        {
          "output_type": "execute_result",
          "data": {
            "text/plain": [
              "<tf.Tensor: shape=(5, 5), dtype=float64, numpy=\n",
              "array([[73.4358181 , 74.68396331, 71.80182734, 71.67402508, 69.90764112],\n",
              "       [73.74098521, 77.74104813, 70.68688358, 71.2540371 , 67.88441773],\n",
              "       [77.95136672, 78.18149733, 71.88381185, 76.02491962, 71.79541071],\n",
              "       [79.16836294, 79.89231677, 76.40599151, 77.63449193, 76.079514  ],\n",
              "       [76.26582739, 78.41142471, 71.88151357, 71.62552172, 73.02050658]])>"
            ]
          },
          "metadata": {},
          "execution_count": 101
        }
      ]
    },
    {
      "cell_type": "code",
      "source": [
        "tensor3 = tf.constant(np.random.rand(1,224,224,3))"
      ],
      "metadata": {
        "id": "_mX6hniEfCI0"
      },
      "execution_count": 102,
      "outputs": []
    },
    {
      "cell_type": "code",
      "source": [
        "#tf.squeeze(tensor3)"
      ],
      "metadata": {
        "id": "FFcjrF-QfnKo"
      },
      "execution_count": 103,
      "outputs": []
    },
    {
      "cell_type": "code",
      "source": [
        "tensor4 = tf.constant([1,2,3,4,5,6,7,8,9,9])\n",
        "tensor4"
      ],
      "metadata": {
        "colab": {
          "base_uri": "https://localhost:8080/"
        },
        "id": "pRbS3fx_fw6z",
        "outputId": "8f8bf8c4-234a-445e-d0a9-cf7e188e7f7c"
      },
      "execution_count": 104,
      "outputs": [
        {
          "output_type": "execute_result",
          "data": {
            "text/plain": [
              "<tf.Tensor: shape=(10,), dtype=int32, numpy=array([1, 2, 3, 4, 5, 6, 7, 8, 9, 9], dtype=int32)>"
            ]
          },
          "metadata": {},
          "execution_count": 104
        }
      ]
    },
    {
      "cell_type": "code",
      "source": [
        "tf.reduce_max(tensor4)"
      ],
      "metadata": {
        "colab": {
          "base_uri": "https://localhost:8080/"
        },
        "id": "FH2itPNqgKH5",
        "outputId": "c9fff9a5-dd82-4c80-aee6-53bd551417b0"
      },
      "execution_count": 105,
      "outputs": [
        {
          "output_type": "execute_result",
          "data": {
            "text/plain": [
              "<tf.Tensor: shape=(), dtype=int32, numpy=9>"
            ]
          },
          "metadata": {},
          "execution_count": 105
        }
      ]
    },
    {
      "cell_type": "code",
      "source": [
        "tf.one_hot(tf.cast(tensor4 ,dtype = tf.int32) , depth=10)"
      ],
      "metadata": {
        "id": "f9NwlJEjgU4u",
        "colab": {
          "base_uri": "https://localhost:8080/"
        },
        "outputId": "cf7445ae-625a-4eec-e11a-e950334e0b40"
      },
      "execution_count": 106,
      "outputs": [
        {
          "output_type": "execute_result",
          "data": {
            "text/plain": [
              "<tf.Tensor: shape=(10, 10), dtype=float32, numpy=\n",
              "array([[0., 1., 0., 0., 0., 0., 0., 0., 0., 0.],\n",
              "       [0., 0., 1., 0., 0., 0., 0., 0., 0., 0.],\n",
              "       [0., 0., 0., 1., 0., 0., 0., 0., 0., 0.],\n",
              "       [0., 0., 0., 0., 1., 0., 0., 0., 0., 0.],\n",
              "       [0., 0., 0., 0., 0., 1., 0., 0., 0., 0.],\n",
              "       [0., 0., 0., 0., 0., 0., 1., 0., 0., 0.],\n",
              "       [0., 0., 0., 0., 0., 0., 0., 1., 0., 0.],\n",
              "       [0., 0., 0., 0., 0., 0., 0., 0., 1., 0.],\n",
              "       [0., 0., 0., 0., 0., 0., 0., 0., 0., 1.],\n",
              "       [0., 0., 0., 0., 0., 0., 0., 0., 0., 1.]], dtype=float32)>"
            ]
          },
          "metadata": {},
          "execution_count": 106
        }
      ]
    },
    {
      "cell_type": "code",
      "source": [],
      "metadata": {
        "id": "nq5f3E3yg72d"
      },
      "execution_count": 106,
      "outputs": []
    }
  ],
  "metadata": {
    "colab": {
      "provenance": [],
      "authorship_tag": "ABX9TyOkoa8AYtjm3G/3IMRMmhcU",
      "include_colab_link": true
    },
    "kernelspec": {
      "display_name": "Python 3",
      "name": "python3"
    },
    "language_info": {
      "name": "python"
    }
  },
  "nbformat": 4,
  "nbformat_minor": 0
}