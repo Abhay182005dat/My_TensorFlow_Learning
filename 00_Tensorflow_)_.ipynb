{
  "cells": [
    {
      "cell_type": "markdown",
      "metadata": {
        "id": "view-in-github",
        "colab_type": "text"
      },
      "source": [
        "<a href=\"https://colab.research.google.com/github/Abhay182005dat/My_TensorFlow_Learning/blob/main/00_Tensorflow_)_.ipynb\" target=\"_parent\"><img src=\"https://colab.research.google.com/assets/colab-badge.svg\" alt=\"Open In Colab\"/></a>"
      ]
    },
    {
      "cell_type": "markdown",
      "metadata": {
        "id": "w81wAtjCw_BD"
      },
      "source": [
        "##Introduction to Tensors"
      ]
    },
    {
      "cell_type": "code",
      "execution_count": 1,
      "metadata": {
        "colab": {
          "base_uri": "https://localhost:8080/"
        },
        "id": "3uPLLj65wu5d",
        "outputId": "e29ce8b6-2c8a-433b-9a04-e04b6606de84"
      },
      "outputs": [
        {
          "output_type": "stream",
          "name": "stdout",
          "text": [
            "2.17.1\n"
          ]
        }
      ],
      "source": [
        "import tensorflow as tf\n",
        "print(tf.__version__)"
      ]
    },
    {
      "cell_type": "code",
      "execution_count": 2,
      "metadata": {
        "colab": {
          "base_uri": "https://localhost:8080/"
        },
        "id": "oe4KlpaSw4p9",
        "outputId": "6640a8d5-6fc6-4f8d-83d7-ed6e4ce70d38"
      },
      "outputs": [
        {
          "output_type": "stream",
          "name": "stdout",
          "text": [
            "tf.Tensor(7, shape=(), dtype=int32)\n"
          ]
        },
        {
          "output_type": "execute_result",
          "data": {
            "text/plain": [
              "<tf.Tensor: shape=(), dtype=int32, numpy=7>"
            ]
          },
          "metadata": {},
          "execution_count": 2
        }
      ],
      "source": [
        "  #Creating Tensors with tf.constant\n",
        "scalar = tf.constant(7)\n",
        "print(scalar)\n",
        "scalar\n"
      ]
    },
    {
      "cell_type": "code",
      "execution_count": 3,
      "metadata": {
        "colab": {
          "base_uri": "https://localhost:8080/"
        },
        "id": "XEJAg9pN18AS",
        "outputId": "8b9db6c5-e265-49e2-8b2c-4a5cdf8fb391"
      },
      "outputs": [
        {
          "output_type": "execute_result",
          "data": {
            "text/plain": [
              "0"
            ]
          },
          "metadata": {},
          "execution_count": 3
        }
      ],
      "source": [
        "scalar.ndim"
      ]
    },
    {
      "cell_type": "code",
      "execution_count": 4,
      "metadata": {
        "colab": {
          "base_uri": "https://localhost:8080/"
        },
        "id": "gEz6Oo4NcpET",
        "outputId": "5c16ef83-001a-4ef2-b4b7-45e5730c129d"
      },
      "outputs": [
        {
          "output_type": "execute_result",
          "data": {
            "text/plain": [
              "<tf.Tensor: shape=(2,), dtype=int32, numpy=array([10, 10], dtype=int32)>"
            ]
          },
          "metadata": {},
          "execution_count": 4
        }
      ],
      "source": [
        "vector = tf.constant([10,10])\n",
        "vector"
      ]
    },
    {
      "cell_type": "code",
      "execution_count": 5,
      "metadata": {
        "colab": {
          "base_uri": "https://localhost:8080/"
        },
        "id": "p9J1Fk4Yc7Ra",
        "outputId": "47b956be-93af-4af1-e222-ec0b62ece7ba"
      },
      "outputs": [
        {
          "output_type": "execute_result",
          "data": {
            "text/plain": [
              "1"
            ]
          },
          "metadata": {},
          "execution_count": 5
        }
      ],
      "source": [
        "vector.ndim"
      ]
    },
    {
      "cell_type": "code",
      "execution_count": 6,
      "metadata": {
        "colab": {
          "base_uri": "https://localhost:8080/"
        },
        "id": "M_wHlGzTc_zG",
        "outputId": "97c38231-4682-4c94-d327-1bb358cc4c55"
      },
      "outputs": [
        {
          "output_type": "execute_result",
          "data": {
            "text/plain": [
              "2"
            ]
          },
          "metadata": {},
          "execution_count": 6
        }
      ],
      "source": [
        "matrix = tf.constant([[10,7],[7,10]])\n",
        "matrix\n",
        "matrix.ndim"
      ]
    },
    {
      "cell_type": "code",
      "execution_count": 7,
      "metadata": {
        "colab": {
          "base_uri": "https://localhost:8080/"
        },
        "id": "5413MjACdELE",
        "outputId": "4d0490ac-c25c-4ff6-9e91-40bf86031e84"
      },
      "outputs": [
        {
          "output_type": "execute_result",
          "data": {
            "text/plain": [
              "<tf.Tensor: shape=(3, 2), dtype=float16, numpy=\n",
              "array([[10.,  7.],\n",
              "       [ 3.,  2.],\n",
              "       [ 8.,  9.]], dtype=float16)>"
            ]
          },
          "metadata": {},
          "execution_count": 7
        }
      ],
      "source": [
        "another_matrix = tf.constant([[10.,7.],[3.,2.],[8.,9.]],dtype=tf.float16)\n",
        "another_matrix #specify data type by dytpr parameter\n"
      ]
    },
    {
      "cell_type": "code",
      "execution_count": 8,
      "metadata": {
        "colab": {
          "base_uri": "https://localhost:8080/"
        },
        "id": "WHZe4VStdebT",
        "outputId": "4d6d7a70-db47-46c3-a172-e013d1d63086"
      },
      "outputs": [
        {
          "output_type": "execute_result",
          "data": {
            "text/plain": [
              "2"
            ]
          },
          "metadata": {},
          "execution_count": 8
        }
      ],
      "source": [
        "another_matrix.ndim"
      ]
    },
    {
      "cell_type": "code",
      "execution_count": 9,
      "metadata": {
        "colab": {
          "base_uri": "https://localhost:8080/"
        },
        "id": "RArzHnKZd9iO",
        "outputId": "343d7e38-18bf-4f7c-8ebf-8331e2814e0b"
      },
      "outputs": [
        {
          "output_type": "execute_result",
          "data": {
            "text/plain": [
              "<tf.Tensor: shape=(3, 2, 3), dtype=int32, numpy=\n",
              "array([[[ 1,  2,  3],\n",
              "        [ 4,  5,  6]],\n",
              "\n",
              "       [[ 7,  8,  9],\n",
              "        [10, 11, 12]],\n",
              "\n",
              "       [[13, 14, 15],\n",
              "        [16, 17, 18]]], dtype=int32)>"
            ]
          },
          "metadata": {},
          "execution_count": 9
        }
      ],
      "source": [
        "Tensor = tf.constant([[[1,2,3],[4,5,6]],[[7,8,9],[10,11,12]],[[13,14,15],[16,17,18]]])\n",
        "Tensor"
      ]
    },
    {
      "cell_type": "code",
      "execution_count": 10,
      "metadata": {
        "colab": {
          "base_uri": "https://localhost:8080/"
        },
        "id": "N43B6skReqr2",
        "outputId": "0fc2c2ad-0e51-45e8-d749-1c62c34f432a"
      },
      "outputs": [
        {
          "output_type": "execute_result",
          "data": {
            "text/plain": [
              "3"
            ]
          },
          "metadata": {},
          "execution_count": 10
        }
      ],
      "source": [
        "Tensor.ndim  # Basically the dimensions here mean just for remebering you can say that its the number of brackets they are enclose within ex. [[]] 2dim"
      ]
    },
    {
      "cell_type": "markdown",
      "metadata": {
        "id": "O7EEQQgufSVL"
      },
      "source": [
        "What we've created so far :\n",
        "* Scalar : a single number\n",
        "* Vector : a number with direction (e.g. wind speed and direction)\n",
        "* Matrix : a 2-dimensional array of numbers\n",
        "* Tensor : an n-dimensional array of numbers"
      ]
    },
    {
      "cell_type": "markdown",
      "metadata": {
        "id": "iFQhNjgGhba9"
      },
      "source": [
        "####Creating Tensors with `tf.variable`"
      ]
    },
    {
      "cell_type": "code",
      "execution_count": 11,
      "metadata": {
        "colab": {
          "base_uri": "https://localhost:8080/"
        },
        "id": "UBlN6p3mhujG",
        "outputId": "617cfc90-8972-44d5-f38b-e9221826a603"
      },
      "outputs": [
        {
          "output_type": "execute_result",
          "data": {
            "text/plain": [
              "(<tf.Variable 'Variable:0' shape=(2,) dtype=int32, numpy=array([10,  7], dtype=int32)>,\n",
              " <tf.Tensor: shape=(1,), dtype=float32, numpy=array([10.7], dtype=float32)>)"
            ]
          },
          "metadata": {},
          "execution_count": 11
        }
      ],
      "source": [
        "changeable_tensor = tf.Variable([10,7])\n",
        "unchangeable_tensor = tf.constant([10.7])\n",
        "changeable_tensor , unchangeable_tensor"
      ]
    },
    {
      "cell_type": "code",
      "execution_count": 12,
      "metadata": {
        "colab": {
          "base_uri": "https://localhost:8080/"
        },
        "id": "WIxTTLuEh_Lt",
        "outputId": "30c29326-c64a-4b4d-f140-fa057d688968"
      },
      "outputs": [
        {
          "output_type": "execute_result",
          "data": {
            "text/plain": [
              "<tf.Variable 'UnreadVariable' shape=(2,) dtype=int32, numpy=array([7, 7], dtype=int32)>"
            ]
          },
          "metadata": {},
          "execution_count": 12
        }
      ],
      "source": [
        "#You can change the changeable_tensor by only using the .assign method\n",
        "# But you can't chnage the unchangeable_tensor even with the .assign method\n",
        "changeable_tensor[0].assign(7)"
      ]
    },
    {
      "cell_type": "markdown",
      "metadata": {
        "id": "Uq4K_kPqB8EY"
      },
      "source": [
        "###Creating Random Tensors"
      ]
    },
    {
      "cell_type": "code",
      "execution_count": 13,
      "metadata": {
        "colab": {
          "base_uri": "https://localhost:8080/"
        },
        "id": "o_n7ls23CsPz",
        "outputId": "66285c5f-1b64-4789-e421-bee3237c4d13"
      },
      "outputs": [
        {
          "output_type": "execute_result",
          "data": {
            "text/plain": [
              "(<tf.Tensor: shape=(3, 2), dtype=float32, numpy=\n",
              " array([[-0.7565803 , -0.06854702],\n",
              "        [ 0.07595026, -1.2573844 ],\n",
              "        [-0.23193763, -1.8107855 ]], dtype=float32)>,\n",
              " <tf.Tensor: shape=(3, 2), dtype=float32, numpy=\n",
              " array([[-0.7565803 , -0.06854702],\n",
              "        [ 0.07595026, -1.2573844 ],\n",
              "        [-0.23193763, -1.8107855 ]], dtype=float32)>,\n",
              " <tf.Tensor: shape=(3, 2), dtype=bool, numpy=\n",
              " array([[ True,  True],\n",
              "        [ True,  True],\n",
              "        [ True,  True]])>)"
            ]
          },
          "metadata": {},
          "execution_count": 13
        }
      ],
      "source": [
        "random_1  = tf.random.Generator.from_seed(42) # set seed for reproducibility or replicable etc 42 is the general convention\n",
        "random_1 = random_1.normal(shape = (3,2))  # picks numbers from normal distribution\n",
        "random_2 = tf.random.Generator.from_seed(42)\n",
        "random_2 = random_2.normal(shape = (3,2))\n",
        "# Are they Equal ?\n",
        "random_1 , random_2 , random_1 == random_2"
      ]
    },
    {
      "cell_type": "markdown",
      "metadata": {
        "id": "ooJq_orDDmRe"
      },
      "source": [
        "###Shuffle the order of elements in tensor `tf.random.shuffle`\n",
        "\n",
        "---\n",
        "\n"
      ]
    },
    {
      "cell_type": "code",
      "execution_count": 14,
      "metadata": {
        "colab": {
          "base_uri": "https://localhost:8080/"
        },
        "id": "hgbcDifwCtRR",
        "outputId": "49271d3e-685c-4f9a-8ff9-718fc20d6ee5"
      },
      "outputs": [
        {
          "output_type": "execute_result",
          "data": {
            "text/plain": [
              "<tf.Tensor: shape=(3, 2), dtype=int32, numpy=\n",
              "array([[10,  7],\n",
              "       [ 2,  5],\n",
              "       [ 3,  4]], dtype=int32)>"
            ]
          },
          "metadata": {},
          "execution_count": 14
        }
      ],
      "source": [
        "not_shuffled = tf.constant([[10,7],[3,4],[2,5]])\n",
        "# not_shuffled.ndim = 2\n",
        "tf.random.shuffle(not_shuffled)"
      ]
    },
    {
      "cell_type": "code",
      "execution_count": 15,
      "metadata": {
        "colab": {
          "base_uri": "https://localhost:8080/"
        },
        "id": "KUjTBxRIEYeX",
        "outputId": "b6dac121-7671-481d-ec7a-014d9120c8da"
      },
      "outputs": [
        {
          "output_type": "execute_result",
          "data": {
            "text/plain": [
              "<tf.Tensor: shape=(3, 2), dtype=int32, numpy=\n",
              "array([[10,  7],\n",
              "       [ 3,  4],\n",
              "       [ 2,  5]], dtype=int32)>"
            ]
          },
          "metadata": {},
          "execution_count": 15
        }
      ],
      "source": [
        "tf.random.set_seed(42)\n",
        "tf.random.shuffle(not_shuffled,seed = 42)"
      ]
    },
    {
      "cell_type": "markdown",
      "metadata": {
        "id": "inZYJCYGKs_R"
      },
      "source": [
        "**Practice** [`tf.random.set_seed`](https://www.tensorflow.org/api_docs/python/tf/random/set_seed)"
      ]
    },
    {
      "cell_type": "markdown",
      "metadata": {
        "id": "zTLkio2gLBRL"
      },
      "source": [
        "Imagine you have a magic dice that gives you a number every time you roll it. Usually, it gives a new, random number each time. But if you say a special word before you roll, like \"abracadabra 42,\" it will always give you the same numbers in the same order every time you say \"abracadabra 42\" and roll it again.\n",
        "\n",
        "In a computer, tf.random.set_seed is like saying that special word. When you set the seed (say \"abracadabra 42\"), the computer will remember and give you the same results whenever you \"roll\" (or run) your code again, making it feel a bit magical and predictable!"
      ]
    },
    {
      "cell_type": "code",
      "execution_count": 16,
      "metadata": {
        "colab": {
          "base_uri": "https://localhost:8080/"
        },
        "id": "fZCf3I0NGlOx",
        "outputId": "33913c35-49c6-4144-dafe-920af7768df4"
      },
      "outputs": [
        {
          "output_type": "execute_result",
          "data": {
            "text/plain": [
              "<tf.Tensor: shape=(3, 2), dtype=int32, numpy=\n",
              "array([[10,  7],\n",
              "       [ 3,  4],\n",
              "       [ 5,  8]], dtype=int32)>"
            ]
          },
          "metadata": {},
          "execution_count": 16
        }
      ],
      "source": [
        "tf.random.set_seed(42)\n",
        "notshuf =  tf.constant([[10,7],[3,4],[5,8]])\n",
        "tf.random.shuffle(notshuf , seed = 42)"
      ]
    },
    {
      "cell_type": "markdown",
      "metadata": {
        "id": "vlnqJ9poU3IX"
      },
      "source": [
        "**practice end**"
      ]
    },
    {
      "cell_type": "markdown",
      "metadata": {
        "id": "IuTRMCai6pk1"
      },
      "source": [
        "###Other ways to make Tensors"
      ]
    },
    {
      "cell_type": "code",
      "execution_count": 17,
      "metadata": {
        "colab": {
          "base_uri": "https://localhost:8080/"
        },
        "id": "n-IiagEAKeyU",
        "outputId": "2766dc1e-d8a3-4a62-c9d7-4df8b5a9b861"
      },
      "outputs": [
        {
          "output_type": "execute_result",
          "data": {
            "text/plain": [
              "<tf.Tensor: shape=(3, 3), dtype=int32, numpy=\n",
              "array([[1, 1, 1],\n",
              "       [1, 1, 1],\n",
              "       [1, 1, 1]], dtype=int32)>"
            ]
          },
          "metadata": {},
          "execution_count": 17
        }
      ],
      "source": [
        "tf.ones([3,3] , tf.int32) #tf.ones(shape as input and datatype too)"
      ]
    },
    {
      "cell_type": "code",
      "execution_count": 18,
      "metadata": {
        "id": "oNI4QHjU7CK_"
      },
      "outputs": [],
      "source": [
        "#tf.ones([10,3])  # default initialises float"
      ]
    },
    {
      "cell_type": "markdown",
      "metadata": {
        "id": "oQyE3QsW7leR"
      },
      "source": [
        "#####Turn Numpy arrays into Tensors:"
      ]
    },
    {
      "cell_type": "code",
      "execution_count": 19,
      "metadata": {
        "colab": {
          "base_uri": "https://localhost:8080/"
        },
        "id": "dxNILf3L7a9l",
        "outputId": "77c55ce3-dd57-4d76-d60a-91cae015a163"
      },
      "outputs": [
        {
          "output_type": "execute_result",
          "data": {
            "text/plain": [
              "array([ 1,  2,  3,  4,  5,  6,  7,  8,  9, 10, 11, 12, 13, 14, 15, 16, 17,\n",
              "       18, 19, 20, 21, 22, 23, 24], dtype=int32)"
            ]
          },
          "metadata": {},
          "execution_count": 19
        }
      ],
      "source": [
        "import numpy as np\n",
        "a = np.arange(1,25,dtype = np.int32)\n",
        "a"
      ]
    },
    {
      "cell_type": "code",
      "execution_count": 20,
      "metadata": {
        "colab": {
          "base_uri": "https://localhost:8080/"
        },
        "id": "EyKnhq8o7_CX",
        "outputId": "dc3a4532-c0ad-4092-a546-1a8f26d8aa44"
      },
      "outputs": [
        {
          "output_type": "execute_result",
          "data": {
            "text/plain": [
              "(<tf.Tensor: shape=(2, 3, 4), dtype=int32, numpy=\n",
              " array([[[ 1,  2,  3,  4],\n",
              "         [ 5,  6,  7,  8],\n",
              "         [ 9, 10, 11, 12]],\n",
              " \n",
              "        [[13, 14, 15, 16],\n",
              "         [17, 18, 19, 20],\n",
              "         [21, 22, 23, 24]]], dtype=int32)>,\n",
              " <tf.Tensor: shape=(24,), dtype=int32, numpy=\n",
              " array([ 1,  2,  3,  4,  5,  6,  7,  8,  9, 10, 11, 12, 13, 14, 15, 16, 17,\n",
              "        18, 19, 20, 21, 22, 23, 24], dtype=int32)>)"
            ]
          },
          "metadata": {},
          "execution_count": 20
        }
      ],
      "source": [
        "A = tf.constant(a , shape = ([2,3,4])) #💡 You can give anything that should be equal to 24 why? because in the array a there are only 24 elements so 2*3*4 is 24\n",
        "B = tf.constant(a)\n",
        "A , B\n"
      ]
    },
    {
      "cell_type": "markdown",
      "metadata": {
        "id": "UvZg-A0O6LIE"
      },
      "source": [
        "####Tensor attributes\n",
        "\n",
        "1.   shape (number of elements in each of the dimensions) : tensor.shape\n",
        "2.   Rank (Number of tensor dimensions)  : tensor.ndim\n",
        "3.   axis or dimension (particular dimension of tensor)  :  tensor[0] , tensor[:,1]\n",
        "4.   size (Total number of items in tensor) :  tf.size(tensor)\n"
      ]
    },
    {
      "cell_type": "code",
      "execution_count": 21,
      "metadata": {
        "colab": {
          "base_uri": "https://localhost:8080/"
        },
        "id": "gcg0NzGG8jFx",
        "outputId": "7e8899bf-6dac-47c4-9822-2795a300f94b"
      },
      "outputs": [
        {
          "output_type": "execute_result",
          "data": {
            "text/plain": [
              "<tf.Tensor: shape=(2, 3, 4, 5), dtype=float32, numpy=\n",
              "array([[[[0., 0., 0., 0., 0.],\n",
              "         [0., 0., 0., 0., 0.],\n",
              "         [0., 0., 0., 0., 0.],\n",
              "         [0., 0., 0., 0., 0.]],\n",
              "\n",
              "        [[0., 0., 0., 0., 0.],\n",
              "         [0., 0., 0., 0., 0.],\n",
              "         [0., 0., 0., 0., 0.],\n",
              "         [0., 0., 0., 0., 0.]],\n",
              "\n",
              "        [[0., 0., 0., 0., 0.],\n",
              "         [0., 0., 0., 0., 0.],\n",
              "         [0., 0., 0., 0., 0.],\n",
              "         [0., 0., 0., 0., 0.]]],\n",
              "\n",
              "\n",
              "       [[[0., 0., 0., 0., 0.],\n",
              "         [0., 0., 0., 0., 0.],\n",
              "         [0., 0., 0., 0., 0.],\n",
              "         [0., 0., 0., 0., 0.]],\n",
              "\n",
              "        [[0., 0., 0., 0., 0.],\n",
              "         [0., 0., 0., 0., 0.],\n",
              "         [0., 0., 0., 0., 0.],\n",
              "         [0., 0., 0., 0., 0.]],\n",
              "\n",
              "        [[0., 0., 0., 0., 0.],\n",
              "         [0., 0., 0., 0., 0.],\n",
              "         [0., 0., 0., 0., 0.],\n",
              "         [0., 0., 0., 0., 0.]]]], dtype=float32)>"
            ]
          },
          "metadata": {},
          "execution_count": 21
        }
      ],
      "source": [
        "# Create a rank 4 tensor\n",
        "rank_4_tensor = tf.zeros(shape = [2,3,4,5])\n",
        "rank_4_tensor"
      ]
    },
    {
      "cell_type": "code",
      "execution_count": 22,
      "metadata": {
        "colab": {
          "base_uri": "https://localhost:8080/"
        },
        "id": "Ksl348ZD7dxl",
        "outputId": "f5a9d350-b757-42db-eada-f004dd009669"
      },
      "outputs": [
        {
          "output_type": "stream",
          "name": "stdout",
          "text": [
            "(2, 3, 4, 5)\n",
            "4\n",
            "Element salong the 0 Axis : 2\n",
            "Elements along the last axis : 5\n",
            "tf.Tensor(120, shape=(), dtype=int32)\n",
            "Numpy 120\n"
          ]
        }
      ],
      "source": [
        "print(rank_4_tensor.shape)\n",
        "print(rank_4_tensor.ndim)\n",
        "print(\"Element salong the 0 Axis :\",rank_4_tensor.shape[0])\n",
        "print(\"Elements along the last axis :\",rank_4_tensor.shape[-1])\n",
        "print(tf.size(rank_4_tensor))\n",
        "print(\"Numpy\",tf.size(rank_4_tensor).numpy()) # convert to numpy -> .numpy()"
      ]
    },
    {
      "cell_type": "markdown",
      "metadata": {
        "id": "nItmD0DACqkE"
      },
      "source": [
        "####Indexing Tensors (just like python)"
      ]
    },
    {
      "cell_type": "code",
      "execution_count": 23,
      "metadata": {
        "colab": {
          "base_uri": "https://localhost:8080/"
        },
        "id": "G143HhJy8hpx",
        "outputId": "ca27cdcf-5e2c-491a-df6f-2bfbcadb3f7e"
      },
      "outputs": [
        {
          "output_type": "execute_result",
          "data": {
            "text/plain": [
              "<tf.Tensor: shape=(2, 2, 2, 2), dtype=float32, numpy=\n",
              "array([[[[0., 0.],\n",
              "         [0., 0.]],\n",
              "\n",
              "        [[0., 0.],\n",
              "         [0., 0.]]],\n",
              "\n",
              "\n",
              "       [[[0., 0.],\n",
              "         [0., 0.]],\n",
              "\n",
              "        [[0., 0.],\n",
              "         [0., 0.]]]], dtype=float32)>"
            ]
          },
          "metadata": {},
          "execution_count": 23
        }
      ],
      "source": [
        "# Get the first two elements of each dimension\n",
        "rank_4_tensor[:2,:2,:2,:2]"
      ]
    },
    {
      "cell_type": "code",
      "execution_count": 24,
      "metadata": {
        "colab": {
          "base_uri": "https://localhost:8080/"
        },
        "id": "mmiuzhr8EO3R",
        "outputId": "6c7aa9d2-cef1-4f2d-ee78-e743a6c43172"
      },
      "outputs": [
        {
          "output_type": "stream",
          "name": "stdout",
          "text": [
            "tf.Tensor([[[[0. 0. 0. 0. 0.]]]], shape=(1, 1, 1, 5), dtype=float32)\n",
            "\n",
            "\n",
            "tf.Tensor([[[[0.]]]], shape=(1, 1, 1, 1), dtype=float32)\n",
            "\n",
            "\n",
            "tf.Tensor(\n",
            "[[[[0.]\n",
            "   [0.]\n",
            "   [0.]\n",
            "   [0.]]]], shape=(1, 1, 4, 1), dtype=float32)\n"
          ]
        }
      ],
      "source": [
        "# Get the first element from each dimension from each index except for the final one\n",
        "print(rank_4_tensor[:1 , :1, :1]) # also [:1,:1,:1,:] works\n",
        "# If [:1,:1,:,:1] all elements except the 4th dimension one\n",
        "print(\"\\n\")\n",
        "print(rank_4_tensor[:1,:1,:1,:1])\n",
        "print(\"\\n\")\n",
        "print(rank_4_tensor[:1,:1,:,:1])"
      ]
    },
    {
      "cell_type": "code",
      "execution_count": 25,
      "metadata": {
        "colab": {
          "base_uri": "https://localhost:8080/"
        },
        "id": "tXrXCnpGFj95",
        "outputId": "84e82b48-c6c6-4521-8cfb-77b21845a2fd"
      },
      "outputs": [
        {
          "output_type": "execute_result",
          "data": {
            "text/plain": [
              "(TensorShape([2, 2]), 2)"
            ]
          },
          "metadata": {},
          "execution_count": 25
        }
      ],
      "source": [
        "rank2tensor = tf.constant([[10,7],[3,4]])\n",
        "rank2tensor.shape  , rank2tensor.ndim"
      ]
    },
    {
      "cell_type": "code",
      "source": [
        "# Get the last item of each row  of our rank  2 tensor\n",
        "rank2tensor[:,-1] # or rank2tensor[0: , 1:]"
      ],
      "metadata": {
        "id": "BJcrBi1skJia",
        "colab": {
          "base_uri": "https://localhost:8080/"
        },
        "outputId": "77cfc469-da06-4fd7-a596-42c03943a8df"
      },
      "execution_count": 26,
      "outputs": [
        {
          "output_type": "execute_result",
          "data": {
            "text/plain": [
              "<tf.Tensor: shape=(2,), dtype=int32, numpy=array([7, 4], dtype=int32)>"
            ]
          },
          "metadata": {},
          "execution_count": 26
        }
      ]
    },
    {
      "cell_type": "markdown",
      "source": [
        "#### Expanding or adding a new dimension"
      ],
      "metadata": {
        "id": "mgvcbOAjG97Q"
      }
    },
    {
      "cell_type": "code",
      "execution_count": 27,
      "metadata": {
        "id": "Ul1Aju41XY4o"
      },
      "outputs": [],
      "source": [
        "# Add in extra dimension to the ran 2 tensor\n",
        "rank3tensor = rank2tensor"
      ]
    },
    {
      "cell_type": "code",
      "source": [
        "rank3tensor = rank2tensor[: , : ,tf.newaxis]  # same as rank3tensor = rank2tensor[... , tf.newaxis]\n",
        "rank3tensor"
      ],
      "metadata": {
        "id": "TYR1ZOQdFENj",
        "colab": {
          "base_uri": "https://localhost:8080/"
        },
        "outputId": "c23c66e7-eabb-4023-c191-e78ca5237444"
      },
      "execution_count": 28,
      "outputs": [
        {
          "output_type": "execute_result",
          "data": {
            "text/plain": [
              "<tf.Tensor: shape=(2, 2, 1), dtype=int32, numpy=\n",
              "array([[[10],\n",
              "        [ 7]],\n",
              "\n",
              "       [[ 3],\n",
              "        [ 4]]], dtype=int32)>"
            ]
          },
          "metadata": {},
          "execution_count": 28
        }
      ]
    },
    {
      "cell_type": "code",
      "source": [
        "# Alternative method\n",
        "tf.expand_dims(rank2tensor,axis = -1) # -1 signifes the last dimension or final dimension"
      ],
      "metadata": {
        "id": "WqkZRJweFyiX",
        "colab": {
          "base_uri": "https://localhost:8080/"
        },
        "outputId": "8b1f5c26-105a-46cf-a58b-ae963fc1df39"
      },
      "execution_count": 29,
      "outputs": [
        {
          "output_type": "execute_result",
          "data": {
            "text/plain": [
              "<tf.Tensor: shape=(2, 2, 1), dtype=int32, numpy=\n",
              "array([[[10],\n",
              "        [ 7]],\n",
              "\n",
              "       [[ 3],\n",
              "        [ 4]]], dtype=int32)>"
            ]
          },
          "metadata": {},
          "execution_count": 29
        }
      ]
    },
    {
      "cell_type": "code",
      "source": [
        "tf.expand_dims(rank2tensor,axis = 0) # dimension added at first"
      ],
      "metadata": {
        "colab": {
          "base_uri": "https://localhost:8080/"
        },
        "id": "KbL1AO7gG348",
        "outputId": "8904f47c-718f-4873-91c3-ce7ca3d2946e"
      },
      "execution_count": 30,
      "outputs": [
        {
          "output_type": "execute_result",
          "data": {
            "text/plain": [
              "<tf.Tensor: shape=(1, 2, 2), dtype=int32, numpy=\n",
              "array([[[10,  7],\n",
              "        [ 3,  4]]], dtype=int32)>"
            ]
          },
          "metadata": {},
          "execution_count": 30
        }
      ]
    },
    {
      "cell_type": "markdown",
      "source": [
        "### Manipulating Tensors (Tensor operations)\n",
        "**Basic Operations**"
      ],
      "metadata": {
        "id": "pKVYM7RvItaI"
      }
    },
    {
      "cell_type": "code",
      "source": [
        "# You can add value to the Tensors\n",
        "tensor = tf.constant([[10,7] , [3,4]])\n",
        "tensor +10"
      ],
      "metadata": {
        "id": "DZqwrNVGIVZP",
        "colab": {
          "base_uri": "https://localhost:8080/"
        },
        "outputId": "efcdfcb3-4cbc-41b4-eb6a-50e8467f2de9"
      },
      "execution_count": 31,
      "outputs": [
        {
          "output_type": "execute_result",
          "data": {
            "text/plain": [
              "<tf.Tensor: shape=(2, 2), dtype=int32, numpy=\n",
              "array([[20, 17],\n",
              "       [13, 14]], dtype=int32)>"
            ]
          },
          "metadata": {},
          "execution_count": 31
        }
      ]
    },
    {
      "cell_type": "code",
      "source": [
        "# Original Tensor is unchanged\n",
        "tensor"
      ],
      "metadata": {
        "colab": {
          "base_uri": "https://localhost:8080/"
        },
        "id": "2rQL_QDqyVgU",
        "outputId": "66654e32-19c7-4709-cd5f-10aad63da075"
      },
      "execution_count": 32,
      "outputs": [
        {
          "output_type": "execute_result",
          "data": {
            "text/plain": [
              "<tf.Tensor: shape=(2, 2), dtype=int32, numpy=\n",
              "array([[10,  7],\n",
              "       [ 3,  4]], dtype=int32)>"
            ]
          },
          "metadata": {},
          "execution_count": 32
        }
      ]
    },
    {
      "cell_type": "code",
      "source": [
        "# Multiplication\n",
        "tensor *10"
      ],
      "metadata": {
        "colab": {
          "base_uri": "https://localhost:8080/"
        },
        "id": "6Udld_A5yg06",
        "outputId": "4c9e2333-b56c-48a8-8808-3ac434436497"
      },
      "execution_count": 33,
      "outputs": [
        {
          "output_type": "execute_result",
          "data": {
            "text/plain": [
              "<tf.Tensor: shape=(2, 2), dtype=int32, numpy=\n",
              "array([[100,  70],\n",
              "       [ 30,  40]], dtype=int32)>"
            ]
          },
          "metadata": {},
          "execution_count": 33
        }
      ]
    },
    {
      "cell_type": "code",
      "source": [
        "tensor -10"
      ],
      "metadata": {
        "colab": {
          "base_uri": "https://localhost:8080/"
        },
        "id": "s690feD-yoJ4",
        "outputId": "c934e18e-c472-4a69-9111-7ced4b1f5b4d"
      },
      "execution_count": 34,
      "outputs": [
        {
          "output_type": "execute_result",
          "data": {
            "text/plain": [
              "<tf.Tensor: shape=(2, 2), dtype=int32, numpy=\n",
              "array([[ 0, -3],\n",
              "       [-7, -6]], dtype=int32)>"
            ]
          },
          "metadata": {},
          "execution_count": 34
        }
      ]
    },
    {
      "cell_type": "code",
      "source": [
        "# We van use Tensorflow bulitin function too .math.multiply or .multiply etc\n",
        "tf.multiply(tensor,10)  # When you use tensorflow functions the operations are sped up using gpu"
      ],
      "metadata": {
        "colab": {
          "base_uri": "https://localhost:8080/"
        },
        "id": "wl8kVuYZy3jl",
        "outputId": "807323fe-1d49-42c6-c739-77be3d905809"
      },
      "execution_count": 35,
      "outputs": [
        {
          "output_type": "execute_result",
          "data": {
            "text/plain": [
              "<tf.Tensor: shape=(2, 2), dtype=int32, numpy=\n",
              "array([[100,  70],\n",
              "       [ 30,  40]], dtype=int32)>"
            ]
          },
          "metadata": {},
          "execution_count": 35
        }
      ]
    },
    {
      "cell_type": "code",
      "source": [
        "tf.add( tensor ,1)"
      ],
      "metadata": {
        "colab": {
          "base_uri": "https://localhost:8080/"
        },
        "id": "qa8caKNly46j",
        "outputId": "ab2b873a-16e0-4dd4-b3d1-332268c78e99"
      },
      "execution_count": 36,
      "outputs": [
        {
          "output_type": "execute_result",
          "data": {
            "text/plain": [
              "<tf.Tensor: shape=(2, 2), dtype=int32, numpy=\n",
              "array([[11,  8],\n",
              "       [ 4,  5]], dtype=int32)>"
            ]
          },
          "metadata": {},
          "execution_count": 36
        }
      ]
    },
    {
      "cell_type": "code",
      "source": [
        "tf.pow(tensor , 2 )   # similarly many functions are available in tensorflow .maximum() , .minimum() , .is_finite() etc.."
      ],
      "metadata": {
        "colab": {
          "base_uri": "https://localhost:8080/"
        },
        "id": "N6EgZmrHztro",
        "outputId": "e083b41f-ba18-4671-f11b-0e245c8b7509"
      },
      "execution_count": 37,
      "outputs": [
        {
          "output_type": "execute_result",
          "data": {
            "text/plain": [
              "<tf.Tensor: shape=(2, 2), dtype=int32, numpy=\n",
              "array([[100,  49],\n",
              "       [  9,  16]], dtype=int32)>"
            ]
          },
          "metadata": {},
          "execution_count": 37
        }
      ]
    },
    {
      "cell_type": "markdown",
      "source": [
        "### Matrix Multiplication  `tf.linal.matmul`  ([Basic resource](https://www.mathsisfun.com/algebra/matrix-multiplying.html))\n",
        "**Matrix multiplication is one of the most operations done in Ml**\n",
        "\n",
        "Two short rules for Tensor Multiplication\n",
        "\n",
        "*   The inner dimensions must match\n",
        "*   The resulting dimension has the shape of the inner dimension\n",
        "\n",
        "\n",
        "\n"
      ],
      "metadata": {
        "id": "AoOYwzag0377"
      }
    },
    {
      "cell_type": "code",
      "source": [
        "print(tensor)\n",
        "tf.matmul(tensor ,tensor)"
      ],
      "metadata": {
        "colab": {
          "base_uri": "https://localhost:8080/"
        },
        "id": "p125KCJT0gy1",
        "outputId": "4e6118f2-78a9-4e96-b3de-8e333af4026d"
      },
      "execution_count": 38,
      "outputs": [
        {
          "output_type": "stream",
          "name": "stdout",
          "text": [
            "tf.Tensor(\n",
            "[[10  7]\n",
            " [ 3  4]], shape=(2, 2), dtype=int32)\n"
          ]
        },
        {
          "output_type": "execute_result",
          "data": {
            "text/plain": [
              "<tf.Tensor: shape=(2, 2), dtype=int32, numpy=\n",
              "array([[121,  98],\n",
              "       [ 42,  37]], dtype=int32)>"
            ]
          },
          "metadata": {},
          "execution_count": 38
        }
      ]
    },
    {
      "cell_type": "code",
      "source": [
        "# tensor * tensor is different its like tensor^2\n",
        "tensor * tensor"
      ],
      "metadata": {
        "colab": {
          "base_uri": "https://localhost:8080/"
        },
        "id": "NUwZotts4LHP",
        "outputId": "9c13aae4-f4eb-4868-cbbe-f5ed8a4a1905"
      },
      "execution_count": 39,
      "outputs": [
        {
          "output_type": "execute_result",
          "data": {
            "text/plain": [
              "<tf.Tensor: shape=(2, 2), dtype=int32, numpy=\n",
              "array([[100,  49],\n",
              "       [  9,  16]], dtype=int32)>"
            ]
          },
          "metadata": {},
          "execution_count": 39
        }
      ]
    },
    {
      "cell_type": "code",
      "source": [
        "# Hence you can multiply them with python operator \"@\"\n",
        "tensor @ tensor"
      ],
      "metadata": {
        "colab": {
          "base_uri": "https://localhost:8080/"
        },
        "id": "gurh9NDi497C",
        "outputId": "98316b20-b3ab-4775-8f30-ed325ffdfea9"
      },
      "execution_count": 40,
      "outputs": [
        {
          "output_type": "execute_result",
          "data": {
            "text/plain": [
              "<tf.Tensor: shape=(2, 2), dtype=int32, numpy=\n",
              "array([[121,  98],\n",
              "       [ 42,  37]], dtype=int32)>"
            ]
          },
          "metadata": {},
          "execution_count": 40
        }
      ]
    },
    {
      "cell_type": "code",
      "source": [
        "a = tf.constant([[1,2,5],[7,2,1],[3,3,3]])\n",
        "b = tf.constant([[3,5],[6,7],[1,8]])\n",
        "tf.matmul(a , b)"
      ],
      "metadata": {
        "colab": {
          "base_uri": "https://localhost:8080/"
        },
        "id": "wkD0Bdjq4WBl",
        "outputId": "7b6b0e3a-07fb-4953-e645-ed770c342aab"
      },
      "execution_count": 41,
      "outputs": [
        {
          "output_type": "execute_result",
          "data": {
            "text/plain": [
              "<tf.Tensor: shape=(3, 2), dtype=int32, numpy=\n",
              "array([[20, 59],\n",
              "       [34, 57],\n",
              "       [30, 60]], dtype=int32)>"
            ]
          },
          "metadata": {},
          "execution_count": 41
        }
      ]
    },
    {
      "cell_type": "code",
      "source": [
        "c = tf.constant([[7,8,4],[3,9,10]])\n",
        "# tf.matmul(a,c)  here Matrix multiplication is not possible has 3 and 2 doesn't match"
      ],
      "metadata": {
        "id": "m0ebw4-f4o9R"
      },
      "execution_count": 42,
      "outputs": []
    },
    {
      "cell_type": "code",
      "source": [
        "# Hence we reshape c to 3,2 to match the shape\n",
        "tf.reshape(c , shape = (3,2))"
      ],
      "metadata": {
        "colab": {
          "base_uri": "https://localhost:8080/"
        },
        "id": "prgNCPmP7WgP",
        "outputId": "812a6714-b7b5-430b-c8d9-defcdca53e02"
      },
      "execution_count": 43,
      "outputs": [
        {
          "output_type": "execute_result",
          "data": {
            "text/plain": [
              "<tf.Tensor: shape=(3, 2), dtype=int32, numpy=\n",
              "array([[ 7,  8],\n",
              "       [ 4,  3],\n",
              "       [ 9, 10]], dtype=int32)>"
            ]
          },
          "metadata": {},
          "execution_count": 43
        }
      ]
    },
    {
      "cell_type": "code",
      "source": [
        "# You can also transpose the matrix\n",
        "tf.transpose(c)\n"
      ],
      "metadata": {
        "colab": {
          "base_uri": "https://localhost:8080/"
        },
        "id": "vNfFvhk07nZP",
        "outputId": "978a7459-d292-470d-8a9c-d5a7b5a0ea65"
      },
      "execution_count": 44,
      "outputs": [
        {
          "output_type": "execute_result",
          "data": {
            "text/plain": [
              "<tf.Tensor: shape=(3, 2), dtype=int32, numpy=\n",
              "array([[ 7,  3],\n",
              "       [ 8,  9],\n",
              "       [ 4, 10]], dtype=int32)>"
            ]
          },
          "metadata": {},
          "execution_count": 44
        }
      ]
    },
    {
      "cell_type": "code",
      "source": [
        "# Try Matrix Multiplication with Transpose rather than reshape()\n",
        "tf.matmul(a , tf.transpose(c))"
      ],
      "metadata": {
        "colab": {
          "base_uri": "https://localhost:8080/"
        },
        "id": "TDcJ5liu8T_4",
        "outputId": "1f7ed5b7-213f-42d8-e846-d1974a04ddfa"
      },
      "execution_count": 45,
      "outputs": [
        {
          "output_type": "execute_result",
          "data": {
            "text/plain": [
              "<tf.Tensor: shape=(3, 2), dtype=int32, numpy=\n",
              "array([[43, 71],\n",
              "       [69, 49],\n",
              "       [57, 66]], dtype=int32)>"
            ]
          },
          "metadata": {},
          "execution_count": 45
        }
      ]
    },
    {
      "cell_type": "markdown",
      "source": [
        "### Dot Product `tf.tensordot()`\n"
      ],
      "metadata": {
        "id": "NDDtd78EA5Qd"
      }
    },
    {
      "cell_type": "code",
      "source": [
        "X = tf.constant([[1,2],[3,4],[5,6]])\n",
        "Y = tf.constant([[7,8],[9,10],[11,12]])\n",
        "X , Y"
      ],
      "metadata": {
        "colab": {
          "base_uri": "https://localhost:8080/"
        },
        "id": "1ZZw0cmA9Fxn",
        "outputId": "f52c3e01-de4e-44be-b6f4-fdea55dc912e"
      },
      "execution_count": 46,
      "outputs": [
        {
          "output_type": "execute_result",
          "data": {
            "text/plain": [
              "(<tf.Tensor: shape=(3, 2), dtype=int32, numpy=\n",
              " array([[1, 2],\n",
              "        [3, 4],\n",
              "        [5, 6]], dtype=int32)>,\n",
              " <tf.Tensor: shape=(3, 2), dtype=int32, numpy=\n",
              " array([[ 7,  8],\n",
              "        [ 9, 10],\n",
              "        [11, 12]], dtype=int32)>)"
            ]
          },
          "metadata": {},
          "execution_count": 46
        }
      ]
    },
    {
      "cell_type": "code",
      "source": [
        "#Performing the dot product\n",
        "tf.tensordot(tf.transpose(X) , Y , axes = 1)"
      ],
      "metadata": {
        "colab": {
          "base_uri": "https://localhost:8080/"
        },
        "id": "UfvIKFWFBS6q",
        "outputId": "4ff7e7b9-3260-4caf-8904-c83334acf2e6"
      },
      "execution_count": 47,
      "outputs": [
        {
          "output_type": "execute_result",
          "data": {
            "text/plain": [
              "<tf.Tensor: shape=(2, 2), dtype=int32, numpy=\n",
              "array([[ 89,  98],\n",
              "       [116, 128]], dtype=int32)>"
            ]
          },
          "metadata": {},
          "execution_count": 47
        }
      ]
    },
    {
      "cell_type": "code",
      "source": [
        "tf.tensordot(X , tf.transpose(Y) , axes = 1)"
      ],
      "metadata": {
        "colab": {
          "base_uri": "https://localhost:8080/"
        },
        "id": "ejSI9G5BEl-2",
        "outputId": "e8e3c018-75b6-4113-bb43-f52a7b79f485"
      },
      "execution_count": 48,
      "outputs": [
        {
          "output_type": "execute_result",
          "data": {
            "text/plain": [
              "<tf.Tensor: shape=(3, 3), dtype=int32, numpy=\n",
              "array([[ 23,  29,  35],\n",
              "       [ 53,  67,  81],\n",
              "       [ 83, 105, 127]], dtype=int32)>"
            ]
          },
          "metadata": {},
          "execution_count": 48
        }
      ]
    },
    {
      "cell_type": "code",
      "source": [
        "# Matrix Multiplication using transpose\n",
        "tf.matmul(X , tf.transpose(Y))\n"
      ],
      "metadata": {
        "colab": {
          "base_uri": "https://localhost:8080/"
        },
        "id": "CZ3Ze74CBoEJ",
        "outputId": "93acb950-f27d-4c5b-96d5-eae53f41b7f6"
      },
      "execution_count": 49,
      "outputs": [
        {
          "output_type": "execute_result",
          "data": {
            "text/plain": [
              "<tf.Tensor: shape=(3, 3), dtype=int32, numpy=\n",
              "array([[ 23,  29,  35],\n",
              "       [ 53,  67,  81],\n",
              "       [ 83, 105, 127]], dtype=int32)>"
            ]
          },
          "metadata": {},
          "execution_count": 49
        }
      ]
    },
    {
      "cell_type": "code",
      "source": [
        "# Matrix Multiplication using reshape\n",
        "tf.matmul(X, tf.reshape(Y , shape = (2,3)))            # You can see even you have used both the methods the answer are not the same why ? lets check out in next cell"
      ],
      "metadata": {
        "colab": {
          "base_uri": "https://localhost:8080/"
        },
        "id": "6DvR5_1kCbGq",
        "outputId": "00086266-cd2a-4ce5-b584-a2609a021e7b"
      },
      "execution_count": 50,
      "outputs": [
        {
          "output_type": "execute_result",
          "data": {
            "text/plain": [
              "<tf.Tensor: shape=(3, 3), dtype=int32, numpy=\n",
              "array([[ 27,  30,  33],\n",
              "       [ 61,  68,  75],\n",
              "       [ 95, 106, 117]], dtype=int32)>"
            ]
          },
          "metadata": {},
          "execution_count": 50
        }
      ]
    },
    {
      "cell_type": "code",
      "source": [
        "# Check Values of Y\n",
        "print('Normal Y :\\n')\n",
        "print(Y,\"\\n\")\n",
        "print(\"Reshaped Y :\\n\")\n",
        "print(tf.reshape(Y , shape = (2,3)))\n",
        "print('\\n')\n",
        "print(\"Transposed Y :\\n\")\n",
        "print(tf.transpose(Y))"
      ],
      "metadata": {
        "colab": {
          "base_uri": "https://localhost:8080/"
        },
        "id": "Sc_eKd-QCltP",
        "outputId": "a38d0d01-b4fa-407e-94ef-2b35583d197e"
      },
      "execution_count": 51,
      "outputs": [
        {
          "output_type": "stream",
          "name": "stdout",
          "text": [
            "Normal Y :\n",
            "\n",
            "tf.Tensor(\n",
            "[[ 7  8]\n",
            " [ 9 10]\n",
            " [11 12]], shape=(3, 2), dtype=int32) \n",
            "\n",
            "Reshaped Y :\n",
            "\n",
            "tf.Tensor(\n",
            "[[ 7  8  9]\n",
            " [10 11 12]], shape=(2, 3), dtype=int32)\n",
            "\n",
            "\n",
            "Transposed Y :\n",
            "\n",
            "tf.Tensor(\n",
            "[[ 7  9 11]\n",
            " [ 8 10 12]], shape=(2, 3), dtype=int32)\n"
          ]
        }
      ]
    },
    {
      "cell_type": "markdown",
      "source": [
        "Now i guess i know why it is different , reshape is just like reshuffling(one of the axes doesn't line up properly)  and transpose is the actual transpose of the matrix . Also the right way to multiply would be by transposing the matrix ❄"
      ],
      "metadata": {
        "id": "X7kuOU6MD6yJ"
      }
    },
    {
      "cell_type": "markdown",
      "source": [
        "### Changing the datatype of Tensor"
      ],
      "metadata": {
        "id": "8Is0RKY1xvnW"
      }
    },
    {
      "cell_type": "code",
      "source": [
        "B = tf.constant([10. , 7.8])\n",
        "B.dtype"
      ],
      "metadata": {
        "id": "LgtHkCMVDiEA",
        "colab": {
          "base_uri": "https://localhost:8080/"
        },
        "outputId": "cb393393-6980-4443-b411-77b139f45ff9"
      },
      "execution_count": 52,
      "outputs": [
        {
          "output_type": "execute_result",
          "data": {
            "text/plain": [
              "tf.float32"
            ]
          },
          "metadata": {},
          "execution_count": 52
        }
      ]
    },
    {
      "cell_type": "code",
      "source": [
        "C = tf.constant([7,10])\n",
        "C.dtype"
      ],
      "metadata": {
        "colab": {
          "base_uri": "https://localhost:8080/"
        },
        "id": "Lqy2Mkn2x7fq",
        "outputId": "54a503c1-fd91-4b6e-ca7b-374d91a98979"
      },
      "execution_count": 53,
      "outputs": [
        {
          "output_type": "execute_result",
          "data": {
            "text/plain": [
              "tf.int32"
            ]
          },
          "metadata": {},
          "execution_count": 53
        }
      ]
    },
    {
      "cell_type": "code",
      "source": [
        "# Change from float32 to float16  , This is called reduced precision\n",
        "D = tf.cast(B , dtype = tf.float16 )  # Now they take less space on memory and run faster\n",
        "D"
      ],
      "metadata": {
        "colab": {
          "base_uri": "https://localhost:8080/"
        },
        "id": "AKSS4jX0yE4f",
        "outputId": "ef30fec2-1d5f-42b5-9828-956b4a509610"
      },
      "execution_count": 54,
      "outputs": [
        {
          "output_type": "execute_result",
          "data": {
            "text/plain": [
              "<tf.Tensor: shape=(2,), dtype=float16, numpy=array([10. ,  7.8], dtype=float16)>"
            ]
          },
          "metadata": {},
          "execution_count": 54
        }
      ]
    },
    {
      "cell_type": "code",
      "source": [
        "E = tf.cast(C , dtype = tf.float32)\n",
        "E"
      ],
      "metadata": {
        "colab": {
          "base_uri": "https://localhost:8080/"
        },
        "id": "IIONVKfO0sZn",
        "outputId": "70dcf291-f841-458c-c846-ab6f6e47b552"
      },
      "execution_count": 55,
      "outputs": [
        {
          "output_type": "execute_result",
          "data": {
            "text/plain": [
              "<tf.Tensor: shape=(2,), dtype=float32, numpy=array([ 7., 10.], dtype=float32)>"
            ]
          },
          "metadata": {},
          "execution_count": 55
        }
      ]
    },
    {
      "cell_type": "code",
      "source": [
        "E_float16 = tf.cast(E , dtype = tf.float16)\n",
        "E_float16"
      ],
      "metadata": {
        "colab": {
          "base_uri": "https://localhost:8080/"
        },
        "id": "sYwKLoJg09Bd",
        "outputId": "2d935d7a-4023-4a6a-a185-c5a8c02da8fb"
      },
      "execution_count": 56,
      "outputs": [
        {
          "output_type": "execute_result",
          "data": {
            "text/plain": [
              "<tf.Tensor: shape=(2,), dtype=float16, numpy=array([ 7., 10.], dtype=float16)>"
            ]
          },
          "metadata": {},
          "execution_count": 56
        }
      ]
    },
    {
      "cell_type": "markdown",
      "source": [
        "### Aggregating Tensors\n",
        "\n",
        "**Aggregating tensors = condensing them from multiple values down to a smaller amount of values.**"
      ],
      "metadata": {
        "id": "tqrsq67x1Mag"
      }
    },
    {
      "cell_type": "code",
      "source": [
        "# Get the absolute values\n",
        "D = tf.constant([-7,10])\n",
        "tf.abs(D)  # D is unchanged remember !"
      ],
      "metadata": {
        "colab": {
          "base_uri": "https://localhost:8080/"
        },
        "id": "w3pcwoag1Jrq",
        "outputId": "65506109-7e2a-4d0a-aa1e-f8a9a3059028"
      },
      "execution_count": 57,
      "outputs": [
        {
          "output_type": "execute_result",
          "data": {
            "text/plain": [
              "<tf.Tensor: shape=(2,), dtype=int32, numpy=array([ 7, 10], dtype=int32)>"
            ]
          },
          "metadata": {},
          "execution_count": 57
        }
      ]
    },
    {
      "cell_type": "markdown",
      "source": [
        "#### Lets do the following forms of aggregation\n",
        "\n",
        "* Get the minimum\n",
        "* Get the maximum\n",
        "* Get the mean of a tensor\n",
        "* Get the sum of a tensor\n",
        "\n"
      ],
      "metadata": {
        "id": "bWSJjZ1E4Xxm"
      }
    },
    {
      "cell_type": "code",
      "source": [
        "A = tf.constant([1,2,3,4,5])\n",
        "B = tf.constant([6,7,8,9,10])"
      ],
      "metadata": {
        "id": "t3z1Cphc3_Tj"
      },
      "execution_count": 58,
      "outputs": []
    },
    {
      "cell_type": "code",
      "source": [
        "tf.maximum(A,B )  # Both A and B should have the same datatypes"
      ],
      "metadata": {
        "colab": {
          "base_uri": "https://localhost:8080/"
        },
        "id": "GHC5xrEh4yPD",
        "outputId": "84fd8a8b-4e2b-44bb-d526-a8f3b9ed2dd5"
      },
      "execution_count": 59,
      "outputs": [
        {
          "output_type": "execute_result",
          "data": {
            "text/plain": [
              "<tf.Tensor: shape=(5,), dtype=int32, numpy=array([ 6,  7,  8,  9, 10], dtype=int32)>"
            ]
          },
          "metadata": {},
          "execution_count": 59
        }
      ]
    },
    {
      "cell_type": "code",
      "source": [
        "tf.minimum(A,B)"
      ],
      "metadata": {
        "colab": {
          "base_uri": "https://localhost:8080/"
        },
        "id": "atVD2ez26bL8",
        "outputId": "aa4257c0-8113-4183-d1ad-9f02241efe55"
      },
      "execution_count": 60,
      "outputs": [
        {
          "output_type": "execute_result",
          "data": {
            "text/plain": [
              "<tf.Tensor: shape=(5,), dtype=int32, numpy=array([1, 2, 3, 4, 5], dtype=int32)>"
            ]
          },
          "metadata": {},
          "execution_count": 60
        }
      ]
    },
    {
      "cell_type": "code",
      "source": [
        "A = tf.constant([[1,2,3,4,5],[23,45,32,54,32]])\n",
        "tf.maximum(A,B )"
      ],
      "metadata": {
        "colab": {
          "base_uri": "https://localhost:8080/"
        },
        "id": "WTXuhivz6P4j",
        "outputId": "1ddc3edc-7782-4e10-b1ba-c807eafecedb"
      },
      "execution_count": 61,
      "outputs": [
        {
          "output_type": "execute_result",
          "data": {
            "text/plain": [
              "<tf.Tensor: shape=(2, 5), dtype=int32, numpy=\n",
              "array([[ 6,  7,  8,  9, 10],\n",
              "       [23, 45, 32, 54, 32]], dtype=int32)>"
            ]
          },
          "metadata": {},
          "execution_count": 61
        }
      ]
    },
    {
      "cell_type": "code",
      "source": [
        "tf.minimum(A,B)  # THESE MAXIMUM AND MINIMUM ARE DIFFERENT FUCTIONS AS COMPARED TO NORMAL MIN AND MAX"
      ],
      "metadata": {
        "colab": {
          "base_uri": "https://localhost:8080/"
        },
        "id": "nC77BnZL46Qx",
        "outputId": "9a8ad059-18b5-4ed6-f1c0-0f0564bd3552"
      },
      "execution_count": 62,
      "outputs": [
        {
          "output_type": "execute_result",
          "data": {
            "text/plain": [
              "<tf.Tensor: shape=(2, 5), dtype=int32, numpy=\n",
              "array([[ 1,  2,  3,  4,  5],\n",
              "       [ 6,  7,  8,  9, 10]], dtype=int32)>"
            ]
          },
          "metadata": {},
          "execution_count": 62
        }
      ]
    },
    {
      "cell_type": "code",
      "source": [
        "tf.reduce_mean(B) # Mean"
      ],
      "metadata": {
        "colab": {
          "base_uri": "https://localhost:8080/"
        },
        "id": "HXpXTRFk5el_",
        "outputId": "9bb3c256-128b-4d5d-cc2b-59b7dbb4e115"
      },
      "execution_count": 63,
      "outputs": [
        {
          "output_type": "execute_result",
          "data": {
            "text/plain": [
              "<tf.Tensor: shape=(), dtype=int32, numpy=8>"
            ]
          },
          "metadata": {},
          "execution_count": 63
        }
      ]
    },
    {
      "cell_type": "code",
      "source": [
        "tf.reduce_mean(A) #sum of all elements of A by 10"
      ],
      "metadata": {
        "colab": {
          "base_uri": "https://localhost:8080/"
        },
        "id": "Not2mT8V6sRl",
        "outputId": "cecf10a4-4a1f-44b2-d60b-77de2e990915"
      },
      "execution_count": 64,
      "outputs": [
        {
          "output_type": "execute_result",
          "data": {
            "text/plain": [
              "<tf.Tensor: shape=(), dtype=int32, numpy=20>"
            ]
          },
          "metadata": {},
          "execution_count": 64
        }
      ]
    },
    {
      "cell_type": "code",
      "source": [
        "tf.reduce_min(B) #Original min and max"
      ],
      "metadata": {
        "colab": {
          "base_uri": "https://localhost:8080/"
        },
        "id": "xPjyJFgK61_c",
        "outputId": "dc7cdc3a-8365-487e-db87-e101184b6bde"
      },
      "execution_count": 65,
      "outputs": [
        {
          "output_type": "execute_result",
          "data": {
            "text/plain": [
              "<tf.Tensor: shape=(), dtype=int32, numpy=6>"
            ]
          },
          "metadata": {},
          "execution_count": 65
        }
      ]
    },
    {
      "cell_type": "code",
      "source": [
        "tf.reduce_max(A)"
      ],
      "metadata": {
        "colab": {
          "base_uri": "https://localhost:8080/"
        },
        "id": "NR9Wo9di7QHk",
        "outputId": "85089392-450d-4bb9-e471-ff2f11bff60c"
      },
      "execution_count": 66,
      "outputs": [
        {
          "output_type": "execute_result",
          "data": {
            "text/plain": [
              "<tf.Tensor: shape=(), dtype=int32, numpy=54>"
            ]
          },
          "metadata": {},
          "execution_count": 66
        }
      ]
    },
    {
      "cell_type": "code",
      "source": [
        "tf.reduce_sum(B)"
      ],
      "metadata": {
        "colab": {
          "base_uri": "https://localhost:8080/"
        },
        "id": "WY1F5n0S7hXp",
        "outputId": "19d9529c-3da8-429f-9e80-1683eb89eb20"
      },
      "execution_count": 67,
      "outputs": [
        {
          "output_type": "execute_result",
          "data": {
            "text/plain": [
              "<tf.Tensor: shape=(), dtype=int32, numpy=40>"
            ]
          },
          "metadata": {},
          "execution_count": 67
        }
      ]
    },
    {
      "cell_type": "markdown",
      "source": [
        "####  Exercise : Find variance and standard deviation of the given `E` Tensor"
      ],
      "metadata": {
        "id": "APsLbj6z7wkI"
      }
    },
    {
      "cell_type": "code",
      "source": [
        "E = tf.constant(np.random.randint(0,100 , size = 50))\n",
        "E"
      ],
      "metadata": {
        "colab": {
          "base_uri": "https://localhost:8080/"
        },
        "id": "1PzEiEv67l9s",
        "outputId": "5c905501-98c6-453f-b8fe-6e8d94cc5343"
      },
      "execution_count": 68,
      "outputs": [
        {
          "output_type": "execute_result",
          "data": {
            "text/plain": [
              "<tf.Tensor: shape=(50,), dtype=int64, numpy=\n",
              "array([49, 51, 87, 37, 84,  7, 40, 14, 49,  1, 97, 16, 39, 20, 44,  9, 27,\n",
              "       99, 48,  8, 73, 71,  0, 81, 33, 55,  0,  2, 31, 67, 11, 50, 38, 29,\n",
              "       63, 87, 88, 15, 87, 61, 99, 64, 94, 39, 98, 24, 34, 78, 45, 81])>"
            ]
          },
          "metadata": {},
          "execution_count": 68
        }
      ]
    },
    {
      "cell_type": "code",
      "source": [
        "variance = tf.math.reduce_variance(tf.cast(E , dtype = tf.float16 ))\n",
        "variance"
      ],
      "metadata": {
        "colab": {
          "base_uri": "https://localhost:8080/"
        },
        "id": "VNej5bG38U-t",
        "outputId": "252ebe0b-6c64-4440-e018-8198c5701f79"
      },
      "execution_count": 69,
      "outputs": [
        {
          "output_type": "execute_result",
          "data": {
            "text/plain": [
              "<tf.Tensor: shape=(), dtype=float16, numpy=934.0>"
            ]
          },
          "metadata": {},
          "execution_count": 69
        }
      ]
    },
    {
      "cell_type": "code",
      "source": [
        "std = tf.math.reduce_std(tf.cast(E , dtype = tf.float16 ))\n",
        "std"
      ],
      "metadata": {
        "colab": {
          "base_uri": "https://localhost:8080/"
        },
        "id": "zsACRzH_8f4M",
        "outputId": "99b8fa49-4077-4d7d-ca30-fe0d6a673102"
      },
      "execution_count": 70,
      "outputs": [
        {
          "output_type": "execute_result",
          "data": {
            "text/plain": [
              "<tf.Tensor: shape=(), dtype=float16, numpy=30.56>"
            ]
          },
          "metadata": {},
          "execution_count": 70
        }
      ]
    },
    {
      "cell_type": "markdown",
      "source": [
        "**Alternate method**"
      ],
      "metadata": {
        "id": "1R165qcf95Ua"
      }
    },
    {
      "cell_type": "code",
      "source": [
        "import tensorflow_probability as tfp\n",
        "tfp.stats.variance(E)"
      ],
      "metadata": {
        "colab": {
          "base_uri": "https://localhost:8080/"
        },
        "id": "D_VV_kFM9XYF",
        "outputId": "f2c31c80-5cd4-4fc2-f276-17120a6cbe61"
      },
      "execution_count": 71,
      "outputs": [
        {
          "output_type": "execute_result",
          "data": {
            "text/plain": [
              "<tf.Tensor: shape=(), dtype=int64, numpy=934>"
            ]
          },
          "metadata": {},
          "execution_count": 71
        }
      ]
    },
    {
      "cell_type": "code",
      "source": [
        "tfp.stats.stddev(tf.cast(E , dtype = tf.float16))"
      ],
      "metadata": {
        "colab": {
          "base_uri": "https://localhost:8080/"
        },
        "id": "fs-ZzR9M9yVf",
        "outputId": "6320b888-9c36-4a99-9b11-81cc5ca2f492"
      },
      "execution_count": 72,
      "outputs": [
        {
          "output_type": "execute_result",
          "data": {
            "text/plain": [
              "<tf.Tensor: shape=(), dtype=float16, numpy=30.56>"
            ]
          },
          "metadata": {},
          "execution_count": 72
        }
      ]
    },
    {
      "cell_type": "markdown",
      "source": [
        "###Find the positional maximum and minimum\n",
        "**These are like ,when a model gives out a probabilities of a particular item then the maximum one will be the correct item right so the same thing we areee going to do here**"
      ],
      "metadata": {
        "id": "ioNuoRt7Cx0K"
      }
    },
    {
      "cell_type": "code",
      "source": [
        "# Create a new Tensor for finding positional maximum and minuimum\n",
        "tf.random.set_seed(42)\n",
        "F = tf.random.uniform(shape = [50])\n",
        "F"
      ],
      "metadata": {
        "colab": {
          "base_uri": "https://localhost:8080/"
        },
        "id": "iURBoBQYCxbw",
        "outputId": "febdcae5-5b8f-4f7b-bd90-e4d66b861626"
      },
      "execution_count": 73,
      "outputs": [
        {
          "output_type": "execute_result",
          "data": {
            "text/plain": [
              "<tf.Tensor: shape=(50,), dtype=float32, numpy=\n",
              "array([0.6645621 , 0.44100678, 0.3528825 , 0.46448255, 0.03366041,\n",
              "       0.68467236, 0.74011743, 0.8724445 , 0.22632635, 0.22319686,\n",
              "       0.3103881 , 0.7223358 , 0.13318717, 0.5480639 , 0.5746088 ,\n",
              "       0.8996835 , 0.00946367, 0.5212307 , 0.6345445 , 0.1993283 ,\n",
              "       0.72942245, 0.54583454, 0.10756552, 0.6767061 , 0.6602763 ,\n",
              "       0.33695042, 0.60141766, 0.21062577, 0.8527372 , 0.44062173,\n",
              "       0.9485276 , 0.23752594, 0.81179297, 0.5263394 , 0.494308  ,\n",
              "       0.21612847, 0.8457197 , 0.8718841 , 0.3083862 , 0.6868038 ,\n",
              "       0.23764038, 0.7817228 , 0.9671384 , 0.06870162, 0.79873943,\n",
              "       0.66028714, 0.5871513 , 0.16461694, 0.7381023 , 0.32054043],\n",
              "      dtype=float32)>"
            ]
          },
          "metadata": {},
          "execution_count": 73
        }
      ]
    },
    {
      "cell_type": "code",
      "source": [
        "# Find the positional maximum\n",
        "tf.argmax(F)  # the argmax returns the index of the higest probability"
      ],
      "metadata": {
        "id": "f2pVCsya-CCt",
        "colab": {
          "base_uri": "https://localhost:8080/"
        },
        "outputId": "b81baac6-b279-4d1c-e4e6-f43d5a600b5e"
      },
      "execution_count": 74,
      "outputs": [
        {
          "output_type": "execute_result",
          "data": {
            "text/plain": [
              "<tf.Tensor: shape=(), dtype=int64, numpy=42>"
            ]
          },
          "metadata": {},
          "execution_count": 74
        }
      ]
    },
    {
      "cell_type": "code",
      "source": [
        "F[tf.argmax(F)]"
      ],
      "metadata": {
        "colab": {
          "base_uri": "https://localhost:8080/"
        },
        "id": "qTcPXMA-DwJA",
        "outputId": "bdc9e696-e06d-4469-a1ce-21240fadc309"
      },
      "execution_count": 75,
      "outputs": [
        {
          "output_type": "execute_result",
          "data": {
            "text/plain": [
              "<tf.Tensor: shape=(), dtype=float32, numpy=0.9671384>"
            ]
          },
          "metadata": {},
          "execution_count": 75
        }
      ]
    },
    {
      "cell_type": "code",
      "source": [
        "tf.reduce_max(F)"
      ],
      "metadata": {
        "colab": {
          "base_uri": "https://localhost:8080/"
        },
        "id": "Ky9aO4cID8hc",
        "outputId": "0ee70a78-830b-467e-c2b3-f611215e6493"
      },
      "execution_count": 76,
      "outputs": [
        {
          "output_type": "execute_result",
          "data": {
            "text/plain": [
              "<tf.Tensor: shape=(), dtype=float32, numpy=0.9671384>"
            ]
          },
          "metadata": {},
          "execution_count": 76
        }
      ]
    },
    {
      "cell_type": "code",
      "source": [
        "# Check for Equality\n",
        "F[tf.argmax(F)] == tf.reduce_max(F)"
      ],
      "metadata": {
        "colab": {
          "base_uri": "https://localhost:8080/"
        },
        "id": "OJOHOkLUEAUC",
        "outputId": "ff32703d-c796-4491-b49f-f9ea41f380c0"
      },
      "execution_count": 77,
      "outputs": [
        {
          "output_type": "execute_result",
          "data": {
            "text/plain": [
              "<tf.Tensor: shape=(), dtype=bool, numpy=True>"
            ]
          },
          "metadata": {},
          "execution_count": 77
        }
      ]
    },
    {
      "cell_type": "code",
      "source": [
        "# Fid the positional minimum\n",
        "tf.argmin(F)"
      ],
      "metadata": {
        "colab": {
          "base_uri": "https://localhost:8080/"
        },
        "id": "0t5z0KIKEVMW",
        "outputId": "662f9d93-fd81-475b-80a8-540e481f5453"
      },
      "execution_count": 78,
      "outputs": [
        {
          "output_type": "execute_result",
          "data": {
            "text/plain": [
              "<tf.Tensor: shape=(), dtype=int64, numpy=16>"
            ]
          },
          "metadata": {},
          "execution_count": 78
        }
      ]
    },
    {
      "cell_type": "code",
      "source": [
        "F[tf.argmin(F)]"
      ],
      "metadata": {
        "colab": {
          "base_uri": "https://localhost:8080/"
        },
        "id": "EqV_E6atE3dh",
        "outputId": "55e78ee1-1b41-48fd-9383-6d69dbb32b9a"
      },
      "execution_count": 79,
      "outputs": [
        {
          "output_type": "execute_result",
          "data": {
            "text/plain": [
              "<tf.Tensor: shape=(), dtype=float32, numpy=0.009463668>"
            ]
          },
          "metadata": {},
          "execution_count": 79
        }
      ]
    },
    {
      "cell_type": "markdown",
      "source": [
        "### Squeezing a tensor (Removing all single dimensions)"
      ],
      "metadata": {
        "id": "Tcc8sO53HS29"
      }
    },
    {
      "cell_type": "code",
      "source": [
        "G = tf.constant(tf.random.uniform(shape = [50]) , shape = (1,1,1,1,50))\n",
        "G"
      ],
      "metadata": {
        "colab": {
          "base_uri": "https://localhost:8080/"
        },
        "id": "vYCbypMNHSiB",
        "outputId": "a5c1f6dc-599d-4fab-887c-0a48fcbbad36"
      },
      "execution_count": 80,
      "outputs": [
        {
          "output_type": "execute_result",
          "data": {
            "text/plain": [
              "<tf.Tensor: shape=(1, 1, 1, 1, 50), dtype=float32, numpy=\n",
              "array([[[[[0.68789124, 0.48447883, 0.9309944 , 0.252187  , 0.73115396,\n",
              "           0.89256823, 0.94674826, 0.7493341 , 0.34925628, 0.54718256,\n",
              "           0.26160395, 0.69734323, 0.11962581, 0.53484344, 0.7148968 ,\n",
              "           0.87501776, 0.33967495, 0.17377627, 0.4418521 , 0.9008261 ,\n",
              "           0.13803864, 0.12217975, 0.5754491 , 0.9417181 , 0.9186585 ,\n",
              "           0.59708476, 0.6109482 , 0.82086265, 0.83269787, 0.8915849 ,\n",
              "           0.01377225, 0.49807465, 0.57503664, 0.6856195 , 0.75972784,\n",
              "           0.908944  , 0.40900218, 0.8765154 , 0.53890026, 0.42733097,\n",
              "           0.401173  , 0.66623247, 0.16348064, 0.18220246, 0.97040176,\n",
              "           0.06139731, 0.53034747, 0.9869994 , 0.4746945 , 0.8646754 ]]]]],\n",
              "      dtype=float32)>"
            ]
          },
          "metadata": {},
          "execution_count": 80
        }
      ]
    },
    {
      "cell_type": "code",
      "source": [
        "G_squeezed = tf.squeeze(G) # 't' is a tensor of shape [1, 2, 1, 3, 1, 1]\n",
        "G_squeezed , G_squeezed.shape                         # tf.shape(tf.squeeze(t))  # [2, 3]"
      ],
      "metadata": {
        "colab": {
          "base_uri": "https://localhost:8080/"
        },
        "id": "46UmURzYE-Hm",
        "outputId": "397c9186-50a0-4fcd-d932-9e19a122d34d"
      },
      "execution_count": 81,
      "outputs": [
        {
          "output_type": "execute_result",
          "data": {
            "text/plain": [
              "(<tf.Tensor: shape=(50,), dtype=float32, numpy=\n",
              " array([0.68789124, 0.48447883, 0.9309944 , 0.252187  , 0.73115396,\n",
              "        0.89256823, 0.94674826, 0.7493341 , 0.34925628, 0.54718256,\n",
              "        0.26160395, 0.69734323, 0.11962581, 0.53484344, 0.7148968 ,\n",
              "        0.87501776, 0.33967495, 0.17377627, 0.4418521 , 0.9008261 ,\n",
              "        0.13803864, 0.12217975, 0.5754491 , 0.9417181 , 0.9186585 ,\n",
              "        0.59708476, 0.6109482 , 0.82086265, 0.83269787, 0.8915849 ,\n",
              "        0.01377225, 0.49807465, 0.57503664, 0.6856195 , 0.75972784,\n",
              "        0.908944  , 0.40900218, 0.8765154 , 0.53890026, 0.42733097,\n",
              "        0.401173  , 0.66623247, 0.16348064, 0.18220246, 0.97040176,\n",
              "        0.06139731, 0.53034747, 0.9869994 , 0.4746945 , 0.8646754 ],\n",
              "       dtype=float32)>,\n",
              " TensorShape([50]))"
            ]
          },
          "metadata": {},
          "execution_count": 81
        }
      ]
    },
    {
      "cell_type": "markdown",
      "source": [
        "### One-hot encoding in Tensors"
      ],
      "metadata": {
        "id": "LzYQFpanIHRe"
      }
    },
    {
      "cell_type": "code",
      "source": [
        "# Create a list of indices\n",
        "some_list = [0,1,2,3] # say if red,yellow,blue,green are there then hot encoding just means the stage prior to applying to a neural network which is numerical processing,\n",
        "                      # this a part of it. If it is the red's turn thena ll others turn to be '0' and red is '1'.\n",
        "# One hot encode them\n",
        "tf.one_hot(some_list , depth = 4)"
      ],
      "metadata": {
        "colab": {
          "base_uri": "https://localhost:8080/"
        },
        "id": "LZpZw0p4IAl4",
        "outputId": "498625d1-0f0a-49dd-f6f5-2f4c26f96680"
      },
      "execution_count": 82,
      "outputs": [
        {
          "output_type": "execute_result",
          "data": {
            "text/plain": [
              "<tf.Tensor: shape=(4, 4), dtype=float32, numpy=\n",
              "array([[1., 0., 0., 0.],\n",
              "       [0., 1., 0., 0.],\n",
              "       [0., 0., 1., 0.],\n",
              "       [0., 0., 0., 1.]], dtype=float32)>"
            ]
          },
          "metadata": {},
          "execution_count": 82
        }
      ]
    },
    {
      "cell_type": "code",
      "source": [
        "tf.one_hot(some_list , depth = 3)"
      ],
      "metadata": {
        "colab": {
          "base_uri": "https://localhost:8080/"
        },
        "id": "YWEfWyWgJSER",
        "outputId": "205795e5-0ad7-4742-d850-f6dc26b5b5ce"
      },
      "execution_count": 83,
      "outputs": [
        {
          "output_type": "execute_result",
          "data": {
            "text/plain": [
              "<tf.Tensor: shape=(4, 3), dtype=float32, numpy=\n",
              "array([[1., 0., 0.],\n",
              "       [0., 1., 0.],\n",
              "       [0., 0., 1.],\n",
              "       [0., 0., 0.]], dtype=float32)>"
            ]
          },
          "metadata": {},
          "execution_count": 83
        }
      ]
    },
    {
      "cell_type": "code",
      "source": [
        "# Specify custom values for one hot encoding\n",
        "tf.one_hot(some_list , depth = 4 , on_value='I Love Deep Learning' , off_value='I Love Machine Learning')"
      ],
      "metadata": {
        "colab": {
          "base_uri": "https://localhost:8080/"
        },
        "id": "bM8P0BcBMXeJ",
        "outputId": "919343f8-5665-43a8-fc39-45d1b0275181"
      },
      "execution_count": 84,
      "outputs": [
        {
          "output_type": "execute_result",
          "data": {
            "text/plain": [
              "<tf.Tensor: shape=(4, 4), dtype=string, numpy=\n",
              "array([[b'I Love Deep Learning', b'I Love Machine Learning',\n",
              "        b'I Love Machine Learning', b'I Love Machine Learning'],\n",
              "       [b'I Love Machine Learning', b'I Love Deep Learning',\n",
              "        b'I Love Machine Learning', b'I Love Machine Learning'],\n",
              "       [b'I Love Machine Learning', b'I Love Machine Learning',\n",
              "        b'I Love Deep Learning', b'I Love Machine Learning'],\n",
              "       [b'I Love Machine Learning', b'I Love Machine Learning',\n",
              "        b'I Love Machine Learning', b'I Love Deep Learning']],\n",
              "      dtype=object)>"
            ]
          },
          "metadata": {},
          "execution_count": 84
        }
      ]
    },
    {
      "cell_type": "code",
      "source": [
        "tf.one_hot(some_list , depth = 4 , on_value='ONE' , off_value='ZERO')"
      ],
      "metadata": {
        "colab": {
          "base_uri": "https://localhost:8080/"
        },
        "id": "fxh6gxk4NDHr",
        "outputId": "dfb6705b-987e-4671-ceda-12dd083b920b"
      },
      "execution_count": 85,
      "outputs": [
        {
          "output_type": "execute_result",
          "data": {
            "text/plain": [
              "<tf.Tensor: shape=(4, 4), dtype=string, numpy=\n",
              "array([[b'ONE', b'ZERO', b'ZERO', b'ZERO'],\n",
              "       [b'ZERO', b'ONE', b'ZERO', b'ZERO'],\n",
              "       [b'ZERO', b'ZERO', b'ONE', b'ZERO'],\n",
              "       [b'ZERO', b'ZERO', b'ZERO', b'ONE']], dtype=object)>"
            ]
          },
          "metadata": {},
          "execution_count": 85
        }
      ]
    },
    {
      "cell_type": "markdown",
      "source": [
        "### Maths practice : Squaring  , log ,square root etc"
      ],
      "metadata": {
        "id": "3OmErIQqNtdk"
      }
    },
    {
      "cell_type": "code",
      "source": [
        "# Create a new tensor\n",
        "H = tf.range(1,10) # NOTE : 10 is exclusive\n",
        "H"
      ],
      "metadata": {
        "colab": {
          "base_uri": "https://localhost:8080/"
        },
        "id": "8QZAzsRdNPVL",
        "outputId": "c245c09e-190c-4851-b7ee-ef2a7a8f9d29"
      },
      "execution_count": 86,
      "outputs": [
        {
          "output_type": "execute_result",
          "data": {
            "text/plain": [
              "<tf.Tensor: shape=(9,), dtype=int32, numpy=array([1, 2, 3, 4, 5, 6, 7, 8, 9], dtype=int32)>"
            ]
          },
          "metadata": {},
          "execution_count": 86
        }
      ]
    },
    {
      "cell_type": "code",
      "source": [
        "tf.square(H)"
      ],
      "metadata": {
        "colab": {
          "base_uri": "https://localhost:8080/"
        },
        "id": "KfKxGLiKNz49",
        "outputId": "a9bc898b-f111-450d-9322-87cec35bdf1d"
      },
      "execution_count": 87,
      "outputs": [
        {
          "output_type": "execute_result",
          "data": {
            "text/plain": [
              "<tf.Tensor: shape=(9,), dtype=int32, numpy=array([ 1,  4,  9, 16, 25, 36, 49, 64, 81], dtype=int32)>"
            ]
          },
          "metadata": {},
          "execution_count": 87
        }
      ]
    },
    {
      "cell_type": "code",
      "source": [
        "tf.sqrt(tf.cast(H , dtype = tf.float16)) # NOTE : sqrt accepts only float, bfloat16, half, float32, float64 etc.."
      ],
      "metadata": {
        "colab": {
          "base_uri": "https://localhost:8080/"
        },
        "id": "8VbCbaTHN8rM",
        "outputId": "c1882699-b1b4-49ff-a4d8-bbf29d844103"
      },
      "execution_count": 88,
      "outputs": [
        {
          "output_type": "execute_result",
          "data": {
            "text/plain": [
              "<tf.Tensor: shape=(9,), dtype=float16, numpy=\n",
              "array([1.   , 1.414, 1.732, 2.   , 2.236, 2.45 , 2.646, 2.828, 3.   ],\n",
              "      dtype=float16)>"
            ]
          },
          "metadata": {},
          "execution_count": 88
        }
      ]
    },
    {
      "cell_type": "code",
      "source": [
        "# Find  the log\n",
        "tf.math.log(tf.cast(H , dtype = tf.float32))"
      ],
      "metadata": {
        "colab": {
          "base_uri": "https://localhost:8080/"
        },
        "id": "hOrJSAQ8OJTw",
        "outputId": "92a20f29-a313-4e24-a907-4cb5b1bb1cd3"
      },
      "execution_count": 89,
      "outputs": [
        {
          "output_type": "execute_result",
          "data": {
            "text/plain": [
              "<tf.Tensor: shape=(9,), dtype=float32, numpy=\n",
              "array([0.       , 0.6931472, 1.0986123, 1.3862944, 1.609438 , 1.7917595,\n",
              "       1.9459102, 2.0794415, 2.1972246], dtype=float32)>"
            ]
          },
          "metadata": {},
          "execution_count": 89
        }
      ]
    },
    {
      "cell_type": "code",
      "source": [
        "tf.math.is_strictly_increasing(H) # Checks if the tensor is in increasing order"
      ],
      "metadata": {
        "colab": {
          "base_uri": "https://localhost:8080/"
        },
        "id": "yD2fgLLcOhNJ",
        "outputId": "d73607de-93bd-4341-8000-0f75b177b323"
      },
      "execution_count": 90,
      "outputs": [
        {
          "output_type": "execute_result",
          "data": {
            "text/plain": [
              "<tf.Tensor: shape=(), dtype=bool, numpy=True>"
            ]
          },
          "metadata": {},
          "execution_count": 90
        }
      ]
    },
    {
      "cell_type": "code",
      "source": [
        "E = tf.constant([1,2,3,4,5,8,12,13,12])\n",
        "tf.math.greater_equal(H , E)  # Check if x >= y same way, less_equal works"
      ],
      "metadata": {
        "colab": {
          "base_uri": "https://localhost:8080/"
        },
        "id": "KlSOfnNEPD23",
        "outputId": "89f0c2d2-86c0-47b9-a2af-afbd7ff3eed9"
      },
      "execution_count": 91,
      "outputs": [
        {
          "output_type": "execute_result",
          "data": {
            "text/plain": [
              "<tf.Tensor: shape=(9,), dtype=bool, numpy=array([ True,  True,  True,  True,  True, False, False, False, False])>"
            ]
          },
          "metadata": {},
          "execution_count": 91
        }
      ]
    },
    {
      "cell_type": "code",
      "source": [
        "tf.math.less_equal(H,E) # [1,2,3,4,5,6,7,8,9] < = [1,2,3,4,5,8,12,13,12]"
      ],
      "metadata": {
        "colab": {
          "base_uri": "https://localhost:8080/"
        },
        "id": "IAQcOyPAPn1x",
        "outputId": "082b88da-ff9c-4a17-e775-bcde97618b4c"
      },
      "execution_count": 92,
      "outputs": [
        {
          "output_type": "execute_result",
          "data": {
            "text/plain": [
              "<tf.Tensor: shape=(9,), dtype=bool, numpy=array([ True,  True,  True,  True,  True,  True,  True,  True,  True])>"
            ]
          },
          "metadata": {},
          "execution_count": 92
        }
      ]
    },
    {
      "cell_type": "markdown",
      "source": [
        "### Tensors and  Numpy\n",
        "Tensorflow interacts beautifully with NumPy arrays"
      ],
      "metadata": {
        "id": "hb8EdnvEX_Yd"
      }
    },
    {
      "cell_type": "code",
      "source": [
        "# Create a Tensor directly from a Numpy array\n",
        "J = tf.constant(np.array([3.,7.,10.]))\n",
        "J"
      ],
      "metadata": {
        "id": "TSLkXEDQQZMv",
        "colab": {
          "base_uri": "https://localhost:8080/"
        },
        "outputId": "e5085975-6de7-41e9-ec7f-cbdcda94e59a"
      },
      "execution_count": 93,
      "outputs": [
        {
          "output_type": "execute_result",
          "data": {
            "text/plain": [
              "<tf.Tensor: shape=(3,), dtype=float64, numpy=array([ 3.,  7., 10.])>"
            ]
          },
          "metadata": {},
          "execution_count": 93
        }
      ]
    },
    {
      "cell_type": "code",
      "source": [
        "# Convert tensor J to a Numpy Array\n",
        "np.array(J) , type(np.array(J))"
      ],
      "metadata": {
        "colab": {
          "base_uri": "https://localhost:8080/"
        },
        "id": "6Vg2m-PpYdpR",
        "outputId": "f53c4d1a-6f4d-4e1d-bfd0-6ea3de5a1fd4"
      },
      "execution_count": 94,
      "outputs": [
        {
          "output_type": "execute_result",
          "data": {
            "text/plain": [
              "(array([ 3.,  7., 10.]), numpy.ndarray)"
            ]
          },
          "metadata": {},
          "execution_count": 94
        }
      ]
    },
    {
      "cell_type": "code",
      "source": [
        "# Alternate way\n",
        "J.numpy() , type(J.numpy())"
      ],
      "metadata": {
        "colab": {
          "base_uri": "https://localhost:8080/"
        },
        "id": "7uVA5wE2Y4S0",
        "outputId": "af67f51f-ccac-4935-fd44-3b4957d04382"
      },
      "execution_count": 95,
      "outputs": [
        {
          "output_type": "execute_result",
          "data": {
            "text/plain": [
              "(array([ 3.,  7., 10.]), numpy.ndarray)"
            ]
          },
          "metadata": {},
          "execution_count": 95
        }
      ]
    },
    {
      "cell_type": "code",
      "source": [
        "# Acessing elements\n",
        "J = tf.constant([3.])\n",
        "J.numpy()"
      ],
      "metadata": {
        "colab": {
          "base_uri": "https://localhost:8080/"
        },
        "id": "gYqbcwT1ZkFo",
        "outputId": "a2b27982-b841-4217-b2ca-fb464f18e49c"
      },
      "execution_count": 96,
      "outputs": [
        {
          "output_type": "execute_result",
          "data": {
            "text/plain": [
              "array([3.], dtype=float32)"
            ]
          },
          "metadata": {},
          "execution_count": 96
        }
      ]
    },
    {
      "cell_type": "code",
      "source": [
        "J.numpy()[0]"
      ],
      "metadata": {
        "colab": {
          "base_uri": "https://localhost:8080/"
        },
        "id": "y--P8oDHZxaV",
        "outputId": "3df892b6-cfbb-4bc6-c7f9-812970c14029"
      },
      "execution_count": 97,
      "outputs": [
        {
          "output_type": "execute_result",
          "data": {
            "text/plain": [
              "3.0"
            ]
          },
          "metadata": {},
          "execution_count": 97
        }
      ]
    },
    {
      "cell_type": "code",
      "source": [
        "# The deafult types of each are slightly different\n",
        "numpy_J = tf.constant(np.array([3.,7.,10.]))\n",
        "tensor_J = tf.constant([3.,7.,10.])\n",
        "# Check the datatypes of each\n",
        "numpy_J.dtype , tensor_J.dtype"
      ],
      "metadata": {
        "colab": {
          "base_uri": "https://localhost:8080/"
        },
        "id": "dlAHH3l-Z7wh",
        "outputId": "e1901fb5-17a3-46ea-fbfe-5ebed5dc3266"
      },
      "execution_count": 98,
      "outputs": [
        {
          "output_type": "execute_result",
          "data": {
            "text/plain": [
              "(tf.float64, tf.float32)"
            ]
          },
          "metadata": {},
          "execution_count": 98
        }
      ]
    },
    {
      "cell_type": "markdown",
      "source": [
        "#### tetetetttaffasdgsgdgdfhdfgPractice Exercise"
      ],
      "metadata": {
        "id": "mqVV9gYGb_5n"
      }
    },
    {
      "cell_type": "code",
      "source": [
        "# Create the first tensor\n",
        "tensor1 = tf.constant(np.random.rand(5, 300))\n",
        "# Create the second tensor\n",
        "tensor2 = tf.constant(np.random.rand(5,300,))\n",
        "# To see the output, run the code.\n",
        "#tensor1 , tensor2"
      ],
      "metadata": {
        "id": "DrWDleSVce1O"
      },
      "execution_count": 99,
      "outputs": []
    },
    {
      "cell_type": "code",
      "source": [
        "tf.matmul(tensor1 , tf.transpose(tensor2))"
      ],
      "metadata": {
        "colab": {
          "base_uri": "https://localhost:8080/"
        },
        "id": "KpsIk5Gfeocg",
        "outputId": "679db1ea-400b-4446-de08-d8d5b03d77bc"
      },
      "execution_count": 100,
      "outputs": [
        {
          "output_type": "execute_result",
          "data": {
            "text/plain": [
              "<tf.Tensor: shape=(5, 5), dtype=float64, numpy=\n",
              "array([[82.5920067 , 76.71514278, 78.09294049, 78.23286814, 74.36005327],\n",
              "       [82.31144336, 73.50172979, 75.40800853, 73.87985831, 75.37579299],\n",
              "       [79.49683234, 71.06201917, 72.30701859, 69.70301165, 70.59310701],\n",
              "       [83.40050825, 78.11268986, 79.80851567, 78.21084457, 75.90394522],\n",
              "       [79.35611208, 70.97587764, 75.75416193, 73.57616031, 70.21512973]])>"
            ]
          },
          "metadata": {},
          "execution_count": 100
        }
      ]
    },
    {
      "cell_type": "code",
      "source": [
        "tf.tensordot( tensor1 , tf.transpose(tensor2) , axes = 1)"
      ],
      "metadata": {
        "colab": {
          "base_uri": "https://localhost:8080/"
        },
        "id": "HhoHsnuhe9MZ",
        "outputId": "0203c52b-f3ae-4813-b59c-e3ce74085b06"
      },
      "execution_count": 101,
      "outputs": [
        {
          "output_type": "execute_result",
          "data": {
            "text/plain": [
              "<tf.Tensor: shape=(5, 5), dtype=float64, numpy=\n",
              "array([[82.5920067 , 76.71514278, 78.09294049, 78.23286814, 74.36005327],\n",
              "       [82.31144336, 73.50172979, 75.40800853, 73.87985831, 75.37579299],\n",
              "       [79.49683234, 71.06201917, 72.30701859, 69.70301165, 70.59310701],\n",
              "       [83.40050825, 78.11268986, 79.80851567, 78.21084457, 75.90394522],\n",
              "       [79.35611208, 70.97587764, 75.75416193, 73.57616031, 70.21512973]])>"
            ]
          },
          "metadata": {},
          "execution_count": 101
        }
      ]
    },
    {
      "cell_type": "code",
      "source": [
        "tensor3 = tf.constant(np.random.rand(1,224,224,3))"
      ],
      "metadata": {
        "id": "_mX6hniEfCI0"
      },
      "execution_count": 102,
      "outputs": []
    },
    {
      "cell_type": "code",
      "source": [
        "#tf.squeeze(tensor3)"
      ],
      "metadata": {
        "id": "FFcjrF-QfnKo"
      },
      "execution_count": 103,
      "outputs": []
    },
    {
      "cell_type": "code",
      "source": [
        "tensor4 = tf.constant([1,2,3,4,5,6,7,8,9,9])\n",
        "tensor4"
      ],
      "metadata": {
        "colab": {
          "base_uri": "https://localhost:8080/"
        },
        "id": "pRbS3fx_fw6z",
        "outputId": "a80dbe0d-36ae-4ff7-cf67-052b2ec15dc5"
      },
      "execution_count": 104,
      "outputs": [
        {
          "output_type": "execute_result",
          "data": {
            "text/plain": [
              "<tf.Tensor: shape=(10,), dtype=int32, numpy=array([1, 2, 3, 4, 5, 6, 7, 8, 9, 9], dtype=int32)>"
            ]
          },
          "metadata": {},
          "execution_count": 104
        }
      ]
    },
    {
      "cell_type": "code",
      "source": [
        "tf.reduce_max(tensor4)"
      ],
      "metadata": {
        "colab": {
          "base_uri": "https://localhost:8080/"
        },
        "id": "FH2itPNqgKH5",
        "outputId": "1a98228b-38cc-4590-a74c-989186f16080"
      },
      "execution_count": 105,
      "outputs": [
        {
          "output_type": "execute_result",
          "data": {
            "text/plain": [
              "<tf.Tensor: shape=(), dtype=int32, numpy=9>"
            ]
          },
          "metadata": {},
          "execution_count": 105
        }
      ]
    },
    {
      "cell_type": "code",
      "source": [
        "tf.one_hot(tf.cast(tensor4 ,dtype = tf.int32) , depth=10)"
      ],
      "metadata": {
        "id": "f9NwlJEjgU4u",
        "colab": {
          "base_uri": "https://localhost:8080/"
        },
        "outputId": "12563f16-b259-41ba-8f02-eca98cf4c442"
      },
      "execution_count": 106,
      "outputs": [
        {
          "output_type": "execute_result",
          "data": {
            "text/plain": [
              "<tf.Tensor: shape=(10, 10), dtype=float32, numpy=\n",
              "array([[0., 1., 0., 0., 0., 0., 0., 0., 0., 0.],\n",
              "       [0., 0., 1., 0., 0., 0., 0., 0., 0., 0.],\n",
              "       [0., 0., 0., 1., 0., 0., 0., 0., 0., 0.],\n",
              "       [0., 0., 0., 0., 1., 0., 0., 0., 0., 0.],\n",
              "       [0., 0., 0., 0., 0., 1., 0., 0., 0., 0.],\n",
              "       [0., 0., 0., 0., 0., 0., 1., 0., 0., 0.],\n",
              "       [0., 0., 0., 0., 0., 0., 0., 1., 0., 0.],\n",
              "       [0., 0., 0., 0., 0., 0., 0., 0., 1., 0.],\n",
              "       [0., 0., 0., 0., 0., 0., 0., 0., 0., 1.],\n",
              "       [0., 0., 0., 0., 0., 0., 0., 0., 0., 1.]], dtype=float32)>"
            ]
          },
          "metadata": {},
          "execution_count": 106
        }
      ]
    },
    {
      "cell_type": "markdown",
      "source": [
        "  End  of Practice"
      ],
      "metadata": {
        "id": "YWgAXpcrdX6g"
      }
    },
    {
      "cell_type": "markdown",
      "source": [
        "### Intro To Neural Network Regression using Tensorflow  ![Screenshot 2024-11-20 221345.png](data:image/png;base64,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)"
      ],
      "metadata": {
        "id": "Nu1XtTdqddlN"
      }
    },
    {
      "cell_type": "markdown",
      "source": [
        "Continued in NEXT NOTEBOOK ...."
      ],
      "metadata": {
        "id": "R4d_4NZplTmp"
      }
    },
    {
      "cell_type": "code",
      "source": [],
      "metadata": {
        "id": "nq5f3E3yg72d"
      },
      "execution_count": 106,
      "outputs": []
    }
  ],
  "metadata": {
    "colab": {
      "provenance": [],
      "authorship_tag": "ABX9TyP93/UdOjvpNwmGhJUa85ZF",
      "include_colab_link": true
    },
    "kernelspec": {
      "display_name": "Python 3",
      "name": "python3"
    },
    "language_info": {
      "name": "python"
    }
  },
  "nbformat": 4,
  "nbformat_minor": 0
}